{
 "cells": [
  {
   "cell_type": "code",
   "execution_count": 237,
   "id": "7992b692-65a0-40b3-8d0e-9473ad43d668",
   "metadata": {},
   "outputs": [],
   "source": [
    "import pandas as pd\n",
    "import numpy as np\n",
    "import streamlit as st\n",
    "import plotly.express as px\n",
    "\n",
    "import inflection"
   ]
  },
  {
   "cell_type": "code",
   "execution_count": 238,
   "id": "1b0250ca-8f01-41fe-ba8f-25b8d12d32dd",
   "metadata": {},
   "outputs": [],
   "source": [
    "#========================\n",
    "#   0.1. Helper Variables\n",
    "#========================"
   ]
  },
  {
   "cell_type": "code",
   "execution_count": 239,
   "id": "723b1a99-2243-4752-88bc-70c3b737808b",
   "metadata": {},
   "outputs": [],
   "source": [
    "RAW_DATA_PATH = f\"zomato.csv\""
   ]
  },
  {
   "cell_type": "code",
   "execution_count": 240,
   "id": "94c4cd8d-c840-432c-b89b-ab50dd4b95fd",
   "metadata": {},
   "outputs": [],
   "source": [
    "COUNTRIES = {\n",
    "1: \"India\",\n",
    "14: \"Australia\",\n",
    "30: \"Brazil\",\n",
    "37: \"Canada\",\n",
    "94: \"Indonesia\",\n",
    "148: \"New Zeland\",\n",
    "162: \"Philippines\",\n",
    "166: \"Qatar\",\n",
    "184: \"Singapure\",\n",
    "189: \"South Africa\",\n",
    "191: \"Sri Lanka\",\n",
    "208: \"Turkey\",\n",
    "214: \"United Arab Emirates\",\n",
    "215: \"England\",\n",
    "216: \"United States of America\",\n",
    "}"
   ]
  },
  {
   "cell_type": "code",
   "execution_count": 241,
   "id": "8364c24b-d1e7-4288-bbcb-2b5db90a9af3",
   "metadata": {},
   "outputs": [],
   "source": [
    "COLORS = {\n",
    "\"3F7E00\": \"darkgreen\",\n",
    "\"5BA829\": \"green\",\n",
    "\"9ACD32\": \"lightgreen\",\n",
    "\"CDD614\": \"orange\",\n",
    "\"FFBA00\": \"red\",\n",
    "\"CBCBC8\": \"darkred\",\n",
    "\"FF7800\": \"darkred\",\n",
    "}"
   ]
  },
  {
   "cell_type": "code",
   "execution_count": 242,
   "id": "ad37e2b1-3983-4f85-9349-b4e4f30e3a9d",
   "metadata": {},
   "outputs": [],
   "source": [
    "#========================\n",
    "#   0.2. Helper Functions\n",
    "#========================"
   ]
  },
  {
   "cell_type": "code",
   "execution_count": 243,
   "id": "539752a5-03e2-4cde-8cef-b65a08c7803f",
   "metadata": {},
   "outputs": [],
   "source": [
    "def show_dataframe_dimensions(dataframe):\n",
    "    \"\"\" Mostra as dimensões do dataframe\n",
    "    \n",
    "    \"\"\"\n",
    "    print(f\"Number of Rows: {dataframe.shape[0]}\")\n",
    "    print(f\"Number of Columns: {dataframe.shape[1]}\")\n",
    "    "
   ]
  },
  {
   "cell_type": "code",
   "execution_count": 244,
   "id": "9877121d-3ef7-4d7e-937c-a6df6d59b8cb",
   "metadata": {},
   "outputs": [],
   "source": [
    "def rename_columns(dataframe):\n",
    "    \"\"\"  Esta função tem a responsabilidade de limpar o dataframe\n",
    "    \n",
    "    Tipos de limpeza: \n",
    "    1. Remoção dos espaços das variáveis de texto\n",
    "    2. Mudança de nome das colunas\n",
    "    \n",
    "    Input: Dataframe\n",
    "    Output: Dataframe       \n",
    "    \"\"\"\n",
    "    \n",
    "    df = dataframe.copy()\n",
    "\n",
    "    title = lambda x: inflection.titleize(x)\n",
    "\n",
    "    snakecase = lambda x: inflection.underscore(x)\n",
    "\n",
    "    spaces = lambda x: x.replace(\" \", \"\")\n",
    "\n",
    "    cols_old = list(df.columns)\n",
    "\n",
    "    cols_old = list(map(title, cols_old))\n",
    "\n",
    "    cols_old = list(map(spaces, cols_old))\n",
    "\n",
    "    cols_new = list(map(snakecase, cols_old))\n",
    "\n",
    "    df.columns = cols_new\n",
    "\n",
    "    return df"
   ]
  },
  {
   "cell_type": "code",
   "execution_count": 245,
   "id": "1102e998-f1a3-4915-986b-72812086b62e",
   "metadata": {},
   "outputs": [],
   "source": [
    "def country_name(country_id):\n",
    "    \"\"\" Troca o código por nomes na coluna paises    \"\"\"\n",
    "    return COUNTRIES[country_id]"
   ]
  },
  {
   "cell_type": "code",
   "execution_count": 246,
   "id": "e2fc4212-d791-4fb4-876f-9c67218112cf",
   "metadata": {},
   "outputs": [],
   "source": [
    "def create_price_tye(price_range):\n",
    "    if price_range == 1:\n",
    "        return \"cheap\"\n",
    "    elif price_range == 2:\n",
    "        return \"normal\"\n",
    "    elif price_range == 3:\n",
    "        return \"expensive\"\n",
    "    else:\n",
    "        return \"gourmet\""
   ]
  },
  {
   "cell_type": "code",
   "execution_count": 247,
   "id": "bfe656a3-7f13-44a8-bf5f-7045f65bd0c0",
   "metadata": {},
   "outputs": [],
   "source": [
    "def color_name(color_code):\n",
    "    return COLORS[color_code]"
   ]
  },
  {
   "cell_type": "code",
   "execution_count": 248,
   "id": "1abd8d69-0e65-441c-b7d3-55327544a04b",
   "metadata": {},
   "outputs": [],
   "source": [
    "def adjust_columns_order(dataframe):\n",
    "    df = dataframe.copy()\n",
    "\n",
    "    new_cols_order = [\n",
    "        \"restaurant_id\",\n",
    "        \"restaurant_name\",\n",
    "        \"country\",\n",
    "        \"city\",\n",
    "        \"address\",\n",
    "        \"locality\",\n",
    "        \"locality_verbose\",\n",
    "        \"longitude\",\n",
    "        \"latitude\",\n",
    "        \"cuisines\",\n",
    "        \"price_type\",\n",
    "        \"average_cost_for_two\",\n",
    "        \"currency\",\n",
    "        \"has_table_booking\",\n",
    "        \"has_online_delivery\",\n",
    "        \"is_delivering_now\",\n",
    "        \"aggregate_rating\",\n",
    "        \"rating_color\",\n",
    "        \"color_name\",\n",
    "        \"rating_text\",\n",
    "        \"votes\",\n",
    "    ]\n",
    "\n",
    "    return df.loc[:, new_cols_order]"
   ]
  },
  {
   "cell_type": "code",
   "execution_count": 249,
   "id": "7fed9272-a2f8-41a5-999d-8bc013a938e4",
   "metadata": {},
   "outputs": [],
   "source": [
    "def process_data(file_path):\n",
    "    \"\"\"  Esta função tem a responsabilidade de modificar  o dataframe\n",
    "    \n",
    "    Tipos de limpeza: \n",
    "    1. Criação de uma coluna com os nomes dos paises\n",
    "    2. Criação de uma coluna de categoria de comida \n",
    "    3. Criação uma coluna com o nome das Cores\n",
    " \n",
    "    \n",
    "    Input: Dataframe\n",
    "    Output: Dataframe       \n",
    "    \n",
    "    \"\"\"\n",
    "    \n",
    "    df = pd.read_csv(file_path)\n",
    "\n",
    "    df = df.dropna()\n",
    "\n",
    "    df = rename_columns(df)\n",
    "    \n",
    "    #Criação de uma coluna com os nomes dos paises de acordo com os códigos\n",
    "    df[\"country\"] = df.loc[:, \"country_code\"].apply(lambda x: country_name(x))\n",
    "    \n",
    "    #Criação de uma coluna de categoria de comida \n",
    "    df[\"price_type\"] = df.loc[:, \"price_range\"].apply(lambda x: create_price_tye(x))\n",
    "    \n",
    "    #Criação do nome das Cores\n",
    "    df[\"color_name\"] = df.loc[:, \"rating_color\"].apply(lambda x: color_name(x))\n",
    "\n",
    "    df[\"cuisines\"] = df.loc[:, \"cuisines\"].apply(lambda x: x.split(\",\")[0])\n",
    "    \n",
    "    \n",
    "    df = df.drop_duplicates()\n",
    "\n",
    "    df = adjust_columns_order(df)\n",
    "\n",
    "    df.to_csv(\"zomato.csv\", index=False)\n",
    "\n",
    "    return df"
   ]
  },
  {
   "cell_type": "code",
   "execution_count": 250,
   "id": "f0b96427-151e-4692-be6b-83eee5694bc8",
   "metadata": {},
   "outputs": [],
   "source": [
    "#========================\n",
    "#   0.3. Load Data\n",
    "#========================"
   ]
  },
  {
   "cell_type": "code",
   "execution_count": 224,
   "id": "cb71d637-8a44-4ee2-b7f5-d4c954284526",
   "metadata": {
    "tags": []
   },
   "outputs": [
    {
     "data": {
      "text/html": [
       "<div>\n",
       "<style scoped>\n",
       "    .dataframe tbody tr th:only-of-type {\n",
       "        vertical-align: middle;\n",
       "    }\n",
       "\n",
       "    .dataframe tbody tr th {\n",
       "        vertical-align: top;\n",
       "    }\n",
       "\n",
       "    .dataframe thead th {\n",
       "        text-align: right;\n",
       "    }\n",
       "</style>\n",
       "<table border=\"1\" class=\"dataframe\">\n",
       "  <thead>\n",
       "    <tr style=\"text-align: right;\">\n",
       "      <th></th>\n",
       "      <th>restaurant_id</th>\n",
       "      <th>restaurant_name</th>\n",
       "      <th>country</th>\n",
       "      <th>city</th>\n",
       "      <th>address</th>\n",
       "      <th>locality</th>\n",
       "      <th>locality_verbose</th>\n",
       "      <th>longitude</th>\n",
       "      <th>latitude</th>\n",
       "      <th>cuisines</th>\n",
       "      <th>...</th>\n",
       "      <th>average_cost_for_two</th>\n",
       "      <th>currency</th>\n",
       "      <th>has_table_booking</th>\n",
       "      <th>has_online_delivery</th>\n",
       "      <th>is_delivering_now</th>\n",
       "      <th>aggregate_rating</th>\n",
       "      <th>rating_color</th>\n",
       "      <th>color_name</th>\n",
       "      <th>rating_text</th>\n",
       "      <th>votes</th>\n",
       "    </tr>\n",
       "  </thead>\n",
       "  <tbody>\n",
       "    <tr>\n",
       "      <th>0</th>\n",
       "      <td>6310675</td>\n",
       "      <td>Mama Lou's Italian Kitchen</td>\n",
       "      <td>Philippines</td>\n",
       "      <td>Las Piñas City</td>\n",
       "      <td>Block 1, Lot 36, Tropical Avenue Corner Tropic...</td>\n",
       "      <td>BF International</td>\n",
       "      <td>BF International, Las Piñas City</td>\n",
       "      <td>121.009787</td>\n",
       "      <td>14.447615</td>\n",
       "      <td>Italian</td>\n",
       "      <td>...</td>\n",
       "      <td>1100</td>\n",
       "      <td>Botswana Pula(P)</td>\n",
       "      <td>1</td>\n",
       "      <td>0</td>\n",
       "      <td>0</td>\n",
       "      <td>4.6</td>\n",
       "      <td>3F7E00</td>\n",
       "      <td>darkgreen</td>\n",
       "      <td>Excellent</td>\n",
       "      <td>619</td>\n",
       "    </tr>\n",
       "    <tr>\n",
       "      <th>1</th>\n",
       "      <td>6314542</td>\n",
       "      <td>Blackbird</td>\n",
       "      <td>Philippines</td>\n",
       "      <td>Makati City</td>\n",
       "      <td>Nielson Tower, Ayala Triangle Gardens, Salcedo...</td>\n",
       "      <td>Ayala Triangle Gardens, Salcedo Village, Makat...</td>\n",
       "      <td>Ayala Triangle Gardens, Salcedo Village, Makat...</td>\n",
       "      <td>121.024562</td>\n",
       "      <td>14.556042</td>\n",
       "      <td>European</td>\n",
       "      <td>...</td>\n",
       "      <td>3100</td>\n",
       "      <td>Botswana Pula(P)</td>\n",
       "      <td>0</td>\n",
       "      <td>0</td>\n",
       "      <td>0</td>\n",
       "      <td>4.7</td>\n",
       "      <td>3F7E00</td>\n",
       "      <td>darkgreen</td>\n",
       "      <td>Excellent</td>\n",
       "      <td>469</td>\n",
       "    </tr>\n",
       "    <tr>\n",
       "      <th>2</th>\n",
       "      <td>6301293</td>\n",
       "      <td>Banapple</td>\n",
       "      <td>Philippines</td>\n",
       "      <td>Makati City</td>\n",
       "      <td>Ayala Triangle Gardens, Salcedo Village, Makat...</td>\n",
       "      <td>Ayala Triangle Gardens, Salcedo Village, Makat...</td>\n",
       "      <td>Ayala Triangle Gardens, Salcedo Village, Makat...</td>\n",
       "      <td>121.023171</td>\n",
       "      <td>14.556196</td>\n",
       "      <td>Filipino</td>\n",
       "      <td>...</td>\n",
       "      <td>800</td>\n",
       "      <td>Botswana Pula(P)</td>\n",
       "      <td>0</td>\n",
       "      <td>0</td>\n",
       "      <td>0</td>\n",
       "      <td>4.4</td>\n",
       "      <td>5BA829</td>\n",
       "      <td>green</td>\n",
       "      <td>Very Good</td>\n",
       "      <td>867</td>\n",
       "    </tr>\n",
       "    <tr>\n",
       "      <th>3</th>\n",
       "      <td>6315689</td>\n",
       "      <td>Bad Bird</td>\n",
       "      <td>Philippines</td>\n",
       "      <td>Makati City</td>\n",
       "      <td>Hole In The Wall, Floor 4, Century City Mall, ...</td>\n",
       "      <td>Century City Mall, Poblacion, Makati City</td>\n",
       "      <td>Century City Mall, Poblacion, Makati City, Mak...</td>\n",
       "      <td>121.027708</td>\n",
       "      <td>14.565899</td>\n",
       "      <td>American</td>\n",
       "      <td>...</td>\n",
       "      <td>700</td>\n",
       "      <td>Botswana Pula(P)</td>\n",
       "      <td>0</td>\n",
       "      <td>0</td>\n",
       "      <td>0</td>\n",
       "      <td>4.4</td>\n",
       "      <td>5BA829</td>\n",
       "      <td>green</td>\n",
       "      <td>Very Good</td>\n",
       "      <td>858</td>\n",
       "    </tr>\n",
       "    <tr>\n",
       "      <th>4</th>\n",
       "      <td>6304833</td>\n",
       "      <td>Manam</td>\n",
       "      <td>Philippines</td>\n",
       "      <td>Makati City</td>\n",
       "      <td>Level 1, Greenbelt 2, Ayala Center, Greenbelt,...</td>\n",
       "      <td>Greenbelt 2, San Lorenzo, Makati City</td>\n",
       "      <td>Greenbelt 2, San Lorenzo, Makati City, Makati ...</td>\n",
       "      <td>121.020380</td>\n",
       "      <td>14.552351</td>\n",
       "      <td>Filipino</td>\n",
       "      <td>...</td>\n",
       "      <td>700</td>\n",
       "      <td>Botswana Pula(P)</td>\n",
       "      <td>0</td>\n",
       "      <td>0</td>\n",
       "      <td>0</td>\n",
       "      <td>4.7</td>\n",
       "      <td>3F7E00</td>\n",
       "      <td>darkgreen</td>\n",
       "      <td>Excellent</td>\n",
       "      <td>930</td>\n",
       "    </tr>\n",
       "  </tbody>\n",
       "</table>\n",
       "<p>5 rows × 21 columns</p>\n",
       "</div>"
      ],
      "text/plain": [
       "   restaurant_id             restaurant_name      country            city  \\\n",
       "0        6310675  Mama Lou's Italian Kitchen  Philippines  Las Piñas City   \n",
       "1        6314542                   Blackbird  Philippines     Makati City   \n",
       "2        6301293                    Banapple  Philippines     Makati City   \n",
       "3        6315689                    Bad Bird  Philippines     Makati City   \n",
       "4        6304833                       Manam  Philippines     Makati City   \n",
       "\n",
       "                                             address  \\\n",
       "0  Block 1, Lot 36, Tropical Avenue Corner Tropic...   \n",
       "1  Nielson Tower, Ayala Triangle Gardens, Salcedo...   \n",
       "2  Ayala Triangle Gardens, Salcedo Village, Makat...   \n",
       "3  Hole In The Wall, Floor 4, Century City Mall, ...   \n",
       "4  Level 1, Greenbelt 2, Ayala Center, Greenbelt,...   \n",
       "\n",
       "                                            locality  \\\n",
       "0                                   BF International   \n",
       "1  Ayala Triangle Gardens, Salcedo Village, Makat...   \n",
       "2  Ayala Triangle Gardens, Salcedo Village, Makat...   \n",
       "3          Century City Mall, Poblacion, Makati City   \n",
       "4              Greenbelt 2, San Lorenzo, Makati City   \n",
       "\n",
       "                                    locality_verbose   longitude   latitude  \\\n",
       "0                   BF International, Las Piñas City  121.009787  14.447615   \n",
       "1  Ayala Triangle Gardens, Salcedo Village, Makat...  121.024562  14.556042   \n",
       "2  Ayala Triangle Gardens, Salcedo Village, Makat...  121.023171  14.556196   \n",
       "3  Century City Mall, Poblacion, Makati City, Mak...  121.027708  14.565899   \n",
       "4  Greenbelt 2, San Lorenzo, Makati City, Makati ...  121.020380  14.552351   \n",
       "\n",
       "   cuisines  ... average_cost_for_two          currency has_table_booking  \\\n",
       "0   Italian  ...                 1100  Botswana Pula(P)                 1   \n",
       "1  European  ...                 3100  Botswana Pula(P)                 0   \n",
       "2  Filipino  ...                  800  Botswana Pula(P)                 0   \n",
       "3  American  ...                  700  Botswana Pula(P)                 0   \n",
       "4  Filipino  ...                  700  Botswana Pula(P)                 0   \n",
       "\n",
       "   has_online_delivery  is_delivering_now  aggregate_rating  rating_color  \\\n",
       "0                    0                  0               4.6        3F7E00   \n",
       "1                    0                  0               4.7        3F7E00   \n",
       "2                    0                  0               4.4        5BA829   \n",
       "3                    0                  0               4.4        5BA829   \n",
       "4                    0                  0               4.7        3F7E00   \n",
       "\n",
       "  color_name rating_text votes  \n",
       "0  darkgreen   Excellent   619  \n",
       "1  darkgreen   Excellent   469  \n",
       "2      green   Very Good   867  \n",
       "3      green   Very Good   858  \n",
       "4  darkgreen   Excellent   930  \n",
       "\n",
       "[5 rows x 21 columns]"
      ]
     },
     "execution_count": 224,
     "metadata": {},
     "output_type": "execute_result"
    }
   ],
   "source": [
    "df_raw = pd.read_csv(RAW_DATA_PATH)\n",
    "df_raw.head()"
   ]
  },
  {
   "cell_type": "code",
   "execution_count": 225,
   "id": "bfb56974-504c-47af-b226-5cd061185a2f",
   "metadata": {
    "tags": []
   },
   "outputs": [],
   "source": [
    "#========================\n",
    "#   1. DATA DESCRIPTION\n",
    "#========================"
   ]
  },
  {
   "cell_type": "code",
   "execution_count": 251,
   "id": "eb64b8b7-29df-41bc-b09d-52eaeb678108",
   "metadata": {},
   "outputs": [
    {
     "data": {
      "text/html": [
       "<div>\n",
       "<style scoped>\n",
       "    .dataframe tbody tr th:only-of-type {\n",
       "        vertical-align: middle;\n",
       "    }\n",
       "\n",
       "    .dataframe tbody tr th {\n",
       "        vertical-align: top;\n",
       "    }\n",
       "\n",
       "    .dataframe thead th {\n",
       "        text-align: right;\n",
       "    }\n",
       "</style>\n",
       "<table border=\"1\" class=\"dataframe\">\n",
       "  <thead>\n",
       "    <tr style=\"text-align: right;\">\n",
       "      <th></th>\n",
       "      <th>restaurant_id</th>\n",
       "      <th>restaurant_name</th>\n",
       "      <th>country</th>\n",
       "      <th>city</th>\n",
       "      <th>address</th>\n",
       "      <th>locality</th>\n",
       "      <th>locality_verbose</th>\n",
       "      <th>longitude</th>\n",
       "      <th>latitude</th>\n",
       "      <th>cuisines</th>\n",
       "      <th>...</th>\n",
       "      <th>average_cost_for_two</th>\n",
       "      <th>currency</th>\n",
       "      <th>has_table_booking</th>\n",
       "      <th>has_online_delivery</th>\n",
       "      <th>is_delivering_now</th>\n",
       "      <th>aggregate_rating</th>\n",
       "      <th>rating_color</th>\n",
       "      <th>color_name</th>\n",
       "      <th>rating_text</th>\n",
       "      <th>votes</th>\n",
       "    </tr>\n",
       "  </thead>\n",
       "  <tbody>\n",
       "    <tr>\n",
       "      <th>0</th>\n",
       "      <td>6310675</td>\n",
       "      <td>Mama Lou's Italian Kitchen</td>\n",
       "      <td>Philippines</td>\n",
       "      <td>Las Piñas City</td>\n",
       "      <td>Block 1, Lot 36, Tropical Avenue Corner Tropic...</td>\n",
       "      <td>BF International</td>\n",
       "      <td>BF International, Las Piñas City</td>\n",
       "      <td>121.009787</td>\n",
       "      <td>14.447615</td>\n",
       "      <td>Italian</td>\n",
       "      <td>...</td>\n",
       "      <td>1100</td>\n",
       "      <td>Botswana Pula(P)</td>\n",
       "      <td>1</td>\n",
       "      <td>0</td>\n",
       "      <td>0</td>\n",
       "      <td>4.6</td>\n",
       "      <td>3F7E00</td>\n",
       "      <td>darkgreen</td>\n",
       "      <td>Excellent</td>\n",
       "      <td>619</td>\n",
       "    </tr>\n",
       "    <tr>\n",
       "      <th>1</th>\n",
       "      <td>6314542</td>\n",
       "      <td>Blackbird</td>\n",
       "      <td>Philippines</td>\n",
       "      <td>Makati City</td>\n",
       "      <td>Nielson Tower, Ayala Triangle Gardens, Salcedo...</td>\n",
       "      <td>Ayala Triangle Gardens, Salcedo Village, Makat...</td>\n",
       "      <td>Ayala Triangle Gardens, Salcedo Village, Makat...</td>\n",
       "      <td>121.024562</td>\n",
       "      <td>14.556042</td>\n",
       "      <td>European</td>\n",
       "      <td>...</td>\n",
       "      <td>3100</td>\n",
       "      <td>Botswana Pula(P)</td>\n",
       "      <td>0</td>\n",
       "      <td>0</td>\n",
       "      <td>0</td>\n",
       "      <td>4.7</td>\n",
       "      <td>3F7E00</td>\n",
       "      <td>darkgreen</td>\n",
       "      <td>Excellent</td>\n",
       "      <td>469</td>\n",
       "    </tr>\n",
       "    <tr>\n",
       "      <th>2</th>\n",
       "      <td>6301293</td>\n",
       "      <td>Banapple</td>\n",
       "      <td>Philippines</td>\n",
       "      <td>Makati City</td>\n",
       "      <td>Ayala Triangle Gardens, Salcedo Village, Makat...</td>\n",
       "      <td>Ayala Triangle Gardens, Salcedo Village, Makat...</td>\n",
       "      <td>Ayala Triangle Gardens, Salcedo Village, Makat...</td>\n",
       "      <td>121.023171</td>\n",
       "      <td>14.556196</td>\n",
       "      <td>Filipino</td>\n",
       "      <td>...</td>\n",
       "      <td>800</td>\n",
       "      <td>Botswana Pula(P)</td>\n",
       "      <td>0</td>\n",
       "      <td>0</td>\n",
       "      <td>0</td>\n",
       "      <td>4.4</td>\n",
       "      <td>5BA829</td>\n",
       "      <td>green</td>\n",
       "      <td>Very Good</td>\n",
       "      <td>867</td>\n",
       "    </tr>\n",
       "    <tr>\n",
       "      <th>3</th>\n",
       "      <td>6315689</td>\n",
       "      <td>Bad Bird</td>\n",
       "      <td>Philippines</td>\n",
       "      <td>Makati City</td>\n",
       "      <td>Hole In The Wall, Floor 4, Century City Mall, ...</td>\n",
       "      <td>Century City Mall, Poblacion, Makati City</td>\n",
       "      <td>Century City Mall, Poblacion, Makati City, Mak...</td>\n",
       "      <td>121.027708</td>\n",
       "      <td>14.565899</td>\n",
       "      <td>American</td>\n",
       "      <td>...</td>\n",
       "      <td>700</td>\n",
       "      <td>Botswana Pula(P)</td>\n",
       "      <td>0</td>\n",
       "      <td>0</td>\n",
       "      <td>0</td>\n",
       "      <td>4.4</td>\n",
       "      <td>5BA829</td>\n",
       "      <td>green</td>\n",
       "      <td>Very Good</td>\n",
       "      <td>858</td>\n",
       "    </tr>\n",
       "    <tr>\n",
       "      <th>4</th>\n",
       "      <td>6304833</td>\n",
       "      <td>Manam</td>\n",
       "      <td>Philippines</td>\n",
       "      <td>Makati City</td>\n",
       "      <td>Level 1, Greenbelt 2, Ayala Center, Greenbelt,...</td>\n",
       "      <td>Greenbelt 2, San Lorenzo, Makati City</td>\n",
       "      <td>Greenbelt 2, San Lorenzo, Makati City, Makati ...</td>\n",
       "      <td>121.020380</td>\n",
       "      <td>14.552351</td>\n",
       "      <td>Filipino</td>\n",
       "      <td>...</td>\n",
       "      <td>700</td>\n",
       "      <td>Botswana Pula(P)</td>\n",
       "      <td>0</td>\n",
       "      <td>0</td>\n",
       "      <td>0</td>\n",
       "      <td>4.7</td>\n",
       "      <td>3F7E00</td>\n",
       "      <td>darkgreen</td>\n",
       "      <td>Excellent</td>\n",
       "      <td>930</td>\n",
       "    </tr>\n",
       "  </tbody>\n",
       "</table>\n",
       "<p>5 rows × 21 columns</p>\n",
       "</div>"
      ],
      "text/plain": [
       "   restaurant_id             restaurant_name      country            city  \\\n",
       "0        6310675  Mama Lou's Italian Kitchen  Philippines  Las Piñas City   \n",
       "1        6314542                   Blackbird  Philippines     Makati City   \n",
       "2        6301293                    Banapple  Philippines     Makati City   \n",
       "3        6315689                    Bad Bird  Philippines     Makati City   \n",
       "4        6304833                       Manam  Philippines     Makati City   \n",
       "\n",
       "                                             address  \\\n",
       "0  Block 1, Lot 36, Tropical Avenue Corner Tropic...   \n",
       "1  Nielson Tower, Ayala Triangle Gardens, Salcedo...   \n",
       "2  Ayala Triangle Gardens, Salcedo Village, Makat...   \n",
       "3  Hole In The Wall, Floor 4, Century City Mall, ...   \n",
       "4  Level 1, Greenbelt 2, Ayala Center, Greenbelt,...   \n",
       "\n",
       "                                            locality  \\\n",
       "0                                   BF International   \n",
       "1  Ayala Triangle Gardens, Salcedo Village, Makat...   \n",
       "2  Ayala Triangle Gardens, Salcedo Village, Makat...   \n",
       "3          Century City Mall, Poblacion, Makati City   \n",
       "4              Greenbelt 2, San Lorenzo, Makati City   \n",
       "\n",
       "                                    locality_verbose   longitude   latitude  \\\n",
       "0                   BF International, Las Piñas City  121.009787  14.447615   \n",
       "1  Ayala Triangle Gardens, Salcedo Village, Makat...  121.024562  14.556042   \n",
       "2  Ayala Triangle Gardens, Salcedo Village, Makat...  121.023171  14.556196   \n",
       "3  Century City Mall, Poblacion, Makati City, Mak...  121.027708  14.565899   \n",
       "4  Greenbelt 2, San Lorenzo, Makati City, Makati ...  121.020380  14.552351   \n",
       "\n",
       "   cuisines  ... average_cost_for_two          currency has_table_booking  \\\n",
       "0   Italian  ...                 1100  Botswana Pula(P)                 1   \n",
       "1  European  ...                 3100  Botswana Pula(P)                 0   \n",
       "2  Filipino  ...                  800  Botswana Pula(P)                 0   \n",
       "3  American  ...                  700  Botswana Pula(P)                 0   \n",
       "4  Filipino  ...                  700  Botswana Pula(P)                 0   \n",
       "\n",
       "   has_online_delivery  is_delivering_now  aggregate_rating  rating_color  \\\n",
       "0                    0                  0               4.6        3F7E00   \n",
       "1                    0                  0               4.7        3F7E00   \n",
       "2                    0                  0               4.4        5BA829   \n",
       "3                    0                  0               4.4        5BA829   \n",
       "4                    0                  0               4.7        3F7E00   \n",
       "\n",
       "  color_name rating_text votes  \n",
       "0  darkgreen   Excellent   619  \n",
       "1  darkgreen   Excellent   469  \n",
       "2      green   Very Good   867  \n",
       "3      green   Very Good   858  \n",
       "4  darkgreen   Excellent   930  \n",
       "\n",
       "[5 rows x 21 columns]"
      ]
     },
     "execution_count": 251,
     "metadata": {},
     "output_type": "execute_result"
    }
   ],
   "source": [
    "df1 = df_raw.copy()\n",
    "df1.head()"
   ]
  },
  {
   "cell_type": "code",
   "execution_count": 227,
   "id": "e87628b2-4983-4e2e-9fea-d4e3739ddee3",
   "metadata": {},
   "outputs": [],
   "source": [
    "#========================\n",
    "#   1.1 Columns Description\n",
    "#========================"
   ]
  },
  {
   "cell_type": "raw",
   "id": "ee9d4af1-5847-40d9-9e21-74262830041f",
   "metadata": {},
   "source": [
    "Restaurant ID   ---->\tID do restaurante"
   ]
  },
  {
   "cell_type": "raw",
   "id": "4b164214-e947-430d-8348-86b6a5ad3c27",
   "metadata": {},
   "source": [
    "Restaurant Name ---->\tNome do Restaurante"
   ]
  },
  {
   "cell_type": "raw",
   "id": "183fb45e-74ea-4a09-8471-528947caf6d4",
   "metadata": {},
   "source": [
    "Country Code    ---->\tCódigo do País"
   ]
  },
  {
   "cell_type": "raw",
   "id": "dbb3b61e-f961-4403-9c57-db1852108ff2",
   "metadata": {},
   "source": [
    "City            ---->\tNome da Cidade onde o restaurante está"
   ]
  },
  {
   "cell_type": "raw",
   "id": "325ea8d2-7ed4-43da-a723-a1f96659ff8d",
   "metadata": {},
   "source": [
    "Address   \t    ---->   Endereço do restaurante"
   ]
  },
  {
   "cell_type": "raw",
   "id": "2a180f8a-206c-476a-86bb-18d7025c1964",
   "metadata": {},
   "source": [
    "Locality\t    ---->   Localização e pontos de referência do restaurante"
   ]
  },
  {
   "cell_type": "raw",
   "id": "922ab22e-889c-4f06-b004-23e3845bf8ad",
   "metadata": {},
   "source": [
    "Locality Verbose ---->  Localização e pontos de referência do restaurante (Mais informações)"
   ]
  },
  {
   "cell_type": "raw",
   "id": "1b5cd6e6-cf84-421c-ae98-9a20fbb9e1a1",
   "metadata": {},
   "source": [
    "Longitude       ---->\tPonto geográfico de Longitude do Restaurante"
   ]
  },
  {
   "cell_type": "raw",
   "id": "66ec4dac-4b78-49d0-a384-63be6f980a03",
   "metadata": {},
   "source": [
    "Latitude\t    ---->   Ponto geográfico de Latitude do Restaurante"
   ]
  },
  {
   "cell_type": "raw",
   "id": "d40ba659-ab2a-44cf-900d-4666d1605ed9",
   "metadata": {},
   "source": [
    "Cuisines\t    ---->   Tipos de Culinária servidos no restaurante"
   ]
  },
  {
   "cell_type": "raw",
   "id": "da683af9-e46f-470b-8992-aba10765c88b",
   "metadata": {},
   "source": [
    "Average Cost for two  ---->   Preço Médio de um prato para duas pessoas no restaurante"
   ]
  },
  {
   "cell_type": "raw",
   "id": "8c8c0f34-e346-48b1-89c6-4bf3d098d296",
   "metadata": {},
   "source": [
    "Currency\t        ---->     Moeda do país"
   ]
  },
  {
   "cell_type": "raw",
   "id": "54d65174-7ce8-497f-aee3-7d2067946ad1",
   "metadata": {},
   "source": [
    "Has Table booking\t---->     Se o restaurante possui serviços de reserva; 1 - Sim; 0 - Não"
   ]
  },
  {
   "cell_type": "raw",
   "id": "358906a8-bc74-43e8-b208-d4392471a498",
   "metadata": {},
   "source": [
    "Has Online delivery\t---->     Se o restaurante possui serviços de pedido on-line; 1 - Sim; 0 - Não"
   ]
  },
  {
   "cell_type": "raw",
   "id": "0a5c6a7a-4c7f-4de9-a341-225b861de6ab",
   "metadata": {},
   "source": [
    "Is delivering now\t---->     Se o restaurante faz entregas; 1 - Sim; 0 - Não"
   ]
  },
  {
   "cell_type": "raw",
   "id": "204118e6-f0a8-49b2-bd5b-95550ac01aae",
   "metadata": {},
   "source": [
    "Switch to order menu\t----> -"
   ]
  },
  {
   "cell_type": "raw",
   "id": "81e31822-1c89-44f1-adb7-017fad323343",
   "metadata": {},
   "source": [
    "Price range\t        ---->     Variação de preços do restaurante; 1 a 4 - Quanto maior o valor, mais caro serão os pratos"
   ]
  },
  {
   "cell_type": "raw",
   "id": "42ca1dc8-051a-4f65-ab20-432069631187",
   "metadata": {},
   "source": [
    "Aggregate rating    ---->\t  Nota média do restaurante"
   ]
  },
  {
   "cell_type": "raw",
   "id": "99906152-7301-4557-b89b-9014b864e41d",
   "metadata": {},
   "source": [
    "Rating color        ---->\t  Código Hexadecimal da cor do restaurante com base em sua nota média"
   ]
  },
  {
   "cell_type": "raw",
   "id": "e817c0b6-c999-4fe0-8119-0d542c24117a",
   "metadata": {},
   "source": [
    "Rating text         ---->     Categoria em que o restaurante está com base em sua nota média"
   ]
  },
  {
   "cell_type": "raw",
   "id": "40d0dee0-708d-45c3-9fec-c5df5ed20857",
   "metadata": {},
   "source": [
    "Votes               ---->\t  Quantidade de avaliações que o restaurante já recebeu"
   ]
  },
  {
   "cell_type": "code",
   "execution_count": 228,
   "id": "ccfd2f07-8037-4dfd-8928-f9ffb276e08e",
   "metadata": {},
   "outputs": [],
   "source": [
    "#========================\n",
    "#   1.2 Rename Columns\n",
    "#========================"
   ]
  },
  {
   "cell_type": "code",
   "execution_count": 282,
   "id": "a0de9117-1435-4ee2-adee-3e382c180fd6",
   "metadata": {},
   "outputs": [
    {
     "data": {
      "text/html": [
       "<div>\n",
       "<style scoped>\n",
       "    .dataframe tbody tr th:only-of-type {\n",
       "        vertical-align: middle;\n",
       "    }\n",
       "\n",
       "    .dataframe tbody tr th {\n",
       "        vertical-align: top;\n",
       "    }\n",
       "\n",
       "    .dataframe thead th {\n",
       "        text-align: right;\n",
       "    }\n",
       "</style>\n",
       "<table border=\"1\" class=\"dataframe\">\n",
       "  <thead>\n",
       "    <tr style=\"text-align: right;\">\n",
       "      <th></th>\n",
       "      <th>restaurant</th>\n",
       "      <th>restaurant_name</th>\n",
       "      <th>country</th>\n",
       "      <th>city</th>\n",
       "      <th>address</th>\n",
       "      <th>locality</th>\n",
       "      <th>locality_verbose</th>\n",
       "      <th>longitude</th>\n",
       "      <th>latitude</th>\n",
       "      <th>cuisines</th>\n",
       "      <th>...</th>\n",
       "      <th>average_cost_for_two</th>\n",
       "      <th>currency</th>\n",
       "      <th>has_table_booking</th>\n",
       "      <th>has_online_delivery</th>\n",
       "      <th>is_delivering_now</th>\n",
       "      <th>aggregate_rating</th>\n",
       "      <th>rating_color</th>\n",
       "      <th>color_name</th>\n",
       "      <th>rating_text</th>\n",
       "      <th>votes</th>\n",
       "    </tr>\n",
       "  </thead>\n",
       "  <tbody>\n",
       "    <tr>\n",
       "      <th>0</th>\n",
       "      <td>6310675</td>\n",
       "      <td>Mama Lou's Italian Kitchen</td>\n",
       "      <td>Philippines</td>\n",
       "      <td>Las Piñas City</td>\n",
       "      <td>Block 1, Lot 36, Tropical Avenue Corner Tropic...</td>\n",
       "      <td>BF International</td>\n",
       "      <td>BF International, Las Piñas City</td>\n",
       "      <td>121.009787</td>\n",
       "      <td>14.447615</td>\n",
       "      <td>Italian</td>\n",
       "      <td>...</td>\n",
       "      <td>1100</td>\n",
       "      <td>Botswana Pula(P)</td>\n",
       "      <td>1</td>\n",
       "      <td>0</td>\n",
       "      <td>0</td>\n",
       "      <td>4.6</td>\n",
       "      <td>3F7E00</td>\n",
       "      <td>darkgreen</td>\n",
       "      <td>Excellent</td>\n",
       "      <td>619</td>\n",
       "    </tr>\n",
       "  </tbody>\n",
       "</table>\n",
       "<p>1 rows × 21 columns</p>\n",
       "</div>"
      ],
      "text/plain": [
       "   restaurant             restaurant_name      country            city  \\\n",
       "0     6310675  Mama Lou's Italian Kitchen  Philippines  Las Piñas City   \n",
       "\n",
       "                                             address          locality  \\\n",
       "0  Block 1, Lot 36, Tropical Avenue Corner Tropic...  BF International   \n",
       "\n",
       "                   locality_verbose   longitude   latitude cuisines  ...  \\\n",
       "0  BF International, Las Piñas City  121.009787  14.447615  Italian  ...   \n",
       "\n",
       "  average_cost_for_two          currency has_table_booking  \\\n",
       "0                 1100  Botswana Pula(P)                 1   \n",
       "\n",
       "   has_online_delivery  is_delivering_now  aggregate_rating  rating_color  \\\n",
       "0                    0                  0               4.6        3F7E00   \n",
       "\n",
       "  color_name rating_text votes  \n",
       "0  darkgreen   Excellent   619  \n",
       "\n",
       "[1 rows x 21 columns]"
      ]
     },
     "execution_count": 282,
     "metadata": {},
     "output_type": "execute_result"
    }
   ],
   "source": [
    "df1 = rename_columns(df1)\n",
    "df1.head(1)"
   ]
  },
  {
   "cell_type": "code",
   "execution_count": 230,
   "id": "0f7a3248-07d7-426f-951f-9d4c02b864c9",
   "metadata": {},
   "outputs": [],
   "source": [
    "#========================\n",
    "#   1.4. Data Types\n",
    "#========================"
   ]
  },
  {
   "cell_type": "code",
   "execution_count": 253,
   "id": "d7d63ebc-7022-4e88-9c9d-19c58219eced",
   "metadata": {
    "collapsed": true,
    "jupyter": {
     "outputs_hidden": true
    },
    "tags": []
   },
   "outputs": [
    {
     "data": {
      "text/plain": [
       "restaurant                int64\n",
       "restaurant_name          object\n",
       "country                  object\n",
       "city                     object\n",
       "address                  object\n",
       "locality                 object\n",
       "locality_verbose         object\n",
       "longitude               float64\n",
       "latitude                float64\n",
       "cuisines                 object\n",
       "price_type               object\n",
       "average_cost_for_two      int64\n",
       "currency                 object\n",
       "has_table_booking         int64\n",
       "has_online_delivery       int64\n",
       "is_delivering_now         int64\n",
       "aggregate_rating        float64\n",
       "rating_color             object\n",
       "color_name               object\n",
       "rating_text              object\n",
       "votes                     int64\n",
       "dtype: object"
      ]
     },
     "execution_count": 253,
     "metadata": {},
     "output_type": "execute_result"
    }
   ],
   "source": [
    "df1.dtypes"
   ]
  },
  {
   "cell_type": "code",
   "execution_count": 232,
   "id": "0636d44b-79b5-4c7b-90bb-46fa618399d1",
   "metadata": {},
   "outputs": [],
   "source": [
    "#========================\n",
    "#   1.5. Check NA and Treat NA\n",
    "#========================"
   ]
  },
  {
   "cell_type": "code",
   "execution_count": 254,
   "id": "bdc0b825-7a16-4071-934a-47b164d6c8d4",
   "metadata": {
    "collapsed": true,
    "jupyter": {
     "outputs_hidden": true
    },
    "tags": []
   },
   "outputs": [
    {
     "data": {
      "text/plain": [
       "restaurant              0\n",
       "restaurant_name         0\n",
       "country                 0\n",
       "city                    0\n",
       "address                 0\n",
       "locality                0\n",
       "locality_verbose        0\n",
       "longitude               0\n",
       "latitude                0\n",
       "cuisines                0\n",
       "price_type              0\n",
       "average_cost_for_two    0\n",
       "currency                0\n",
       "has_table_booking       0\n",
       "has_online_delivery     0\n",
       "is_delivering_now       0\n",
       "aggregate_rating        0\n",
       "rating_color            0\n",
       "color_name              0\n",
       "rating_text             0\n",
       "votes                   0\n",
       "dtype: int64"
      ]
     },
     "execution_count": 254,
     "metadata": {},
     "output_type": "execute_result"
    }
   ],
   "source": [
    "df1.isna().sum()\n",
    "df1 = df1.dropna()\n",
    "df1.isna().sum()"
   ]
  },
  {
   "cell_type": "code",
   "execution_count": 234,
   "id": "872f16f5-a761-45ae-af62-fbf74997c7e5",
   "metadata": {},
   "outputs": [],
   "source": [
    "#========================\n",
    "#   2. Answers\n",
    "#========================"
   ]
  },
  {
   "cell_type": "code",
   "execution_count": 236,
   "id": "cd5b6035-eab6-4504-b452-47f5fbd1cba9",
   "metadata": {
    "collapsed": true,
    "jupyter": {
     "outputs_hidden": true
    },
    "tags": []
   },
   "outputs": [
    {
     "ename": "KeyError",
     "evalue": "'country_code'",
     "output_type": "error",
     "traceback": [
      "\u001b[1;31m---------------------------------------------------------------------------\u001b[0m",
      "\u001b[1;31mKeyError\u001b[0m                                  Traceback (most recent call last)",
      "File \u001b[1;32m~\\anaconda3\\lib\\site-packages\\pandas\\core\\indexes\\base.py:3803\u001b[0m, in \u001b[0;36mIndex.get_loc\u001b[1;34m(self, key, method, tolerance)\u001b[0m\n\u001b[0;32m   3802\u001b[0m \u001b[38;5;28;01mtry\u001b[39;00m:\n\u001b[1;32m-> 3803\u001b[0m     \u001b[38;5;28;01mreturn\u001b[39;00m \u001b[38;5;28;43mself\u001b[39;49m\u001b[38;5;241;43m.\u001b[39;49m\u001b[43m_engine\u001b[49m\u001b[38;5;241;43m.\u001b[39;49m\u001b[43mget_loc\u001b[49m\u001b[43m(\u001b[49m\u001b[43mcasted_key\u001b[49m\u001b[43m)\u001b[49m\n\u001b[0;32m   3804\u001b[0m \u001b[38;5;28;01mexcept\u001b[39;00m \u001b[38;5;167;01mKeyError\u001b[39;00m \u001b[38;5;28;01mas\u001b[39;00m err:\n",
      "File \u001b[1;32m~\\anaconda3\\lib\\site-packages\\pandas\\_libs\\index.pyx:138\u001b[0m, in \u001b[0;36mpandas._libs.index.IndexEngine.get_loc\u001b[1;34m()\u001b[0m\n",
      "File \u001b[1;32m~\\anaconda3\\lib\\site-packages\\pandas\\_libs\\index.pyx:165\u001b[0m, in \u001b[0;36mpandas._libs.index.IndexEngine.get_loc\u001b[1;34m()\u001b[0m\n",
      "File \u001b[1;32mpandas\\_libs\\hashtable_class_helper.pxi:5745\u001b[0m, in \u001b[0;36mpandas._libs.hashtable.PyObjectHashTable.get_item\u001b[1;34m()\u001b[0m\n",
      "File \u001b[1;32mpandas\\_libs\\hashtable_class_helper.pxi:5753\u001b[0m, in \u001b[0;36mpandas._libs.hashtable.PyObjectHashTable.get_item\u001b[1;34m()\u001b[0m\n",
      "\u001b[1;31mKeyError\u001b[0m: 'country_code'",
      "\nThe above exception was the direct cause of the following exception:\n",
      "\u001b[1;31mKeyError\u001b[0m                                  Traceback (most recent call last)",
      "Cell \u001b[1;32mIn[236], line 1\u001b[0m\n\u001b[1;32m----> 1\u001b[0m df2 \u001b[38;5;241m=\u001b[39m \u001b[43mprocess_data\u001b[49m\u001b[43m(\u001b[49m\u001b[43mRAW_DATA_PATH\u001b[49m\u001b[43m)\u001b[49m\n\u001b[0;32m      2\u001b[0m df2\u001b[38;5;241m.\u001b[39mhead(\u001b[38;5;241m1\u001b[39m)\n",
      "Cell \u001b[1;32mIn[208], line 22\u001b[0m, in \u001b[0;36mprocess_data\u001b[1;34m(file_path)\u001b[0m\n\u001b[0;32m     19\u001b[0m df \u001b[38;5;241m=\u001b[39m rename_columns(df)\n\u001b[0;32m     21\u001b[0m \u001b[38;5;66;03m#Criação de uma coluna com os nomes dos paises de acordo com os códigos\u001b[39;00m\n\u001b[1;32m---> 22\u001b[0m df[\u001b[38;5;124m\"\u001b[39m\u001b[38;5;124mcountry\u001b[39m\u001b[38;5;124m\"\u001b[39m] \u001b[38;5;241m=\u001b[39m \u001b[43mdf\u001b[49m\u001b[38;5;241;43m.\u001b[39;49m\u001b[43mloc\u001b[49m\u001b[43m[\u001b[49m\u001b[43m:\u001b[49m\u001b[43m,\u001b[49m\u001b[43m \u001b[49m\u001b[38;5;124;43m\"\u001b[39;49m\u001b[38;5;124;43mcountry_code\u001b[39;49m\u001b[38;5;124;43m\"\u001b[39;49m\u001b[43m]\u001b[49m\u001b[38;5;241m.\u001b[39mapply(\u001b[38;5;28;01mlambda\u001b[39;00m x: country_name(x))\n\u001b[0;32m     24\u001b[0m \u001b[38;5;66;03m#Criação de uma coluna de categoria de comida \u001b[39;00m\n\u001b[0;32m     25\u001b[0m df[\u001b[38;5;124m\"\u001b[39m\u001b[38;5;124mprice_type\u001b[39m\u001b[38;5;124m\"\u001b[39m] \u001b[38;5;241m=\u001b[39m df\u001b[38;5;241m.\u001b[39mloc[:, \u001b[38;5;124m\"\u001b[39m\u001b[38;5;124mprice_range\u001b[39m\u001b[38;5;124m\"\u001b[39m]\u001b[38;5;241m.\u001b[39mapply(\u001b[38;5;28;01mlambda\u001b[39;00m x: create_price_tye(x))\n",
      "File \u001b[1;32m~\\anaconda3\\lib\\site-packages\\pandas\\core\\indexing.py:1067\u001b[0m, in \u001b[0;36m_LocationIndexer.__getitem__\u001b[1;34m(self, key)\u001b[0m\n\u001b[0;32m   1065\u001b[0m     \u001b[38;5;28;01mif\u001b[39;00m \u001b[38;5;28mself\u001b[39m\u001b[38;5;241m.\u001b[39m_is_scalar_access(key):\n\u001b[0;32m   1066\u001b[0m         \u001b[38;5;28;01mreturn\u001b[39;00m \u001b[38;5;28mself\u001b[39m\u001b[38;5;241m.\u001b[39mobj\u001b[38;5;241m.\u001b[39m_get_value(\u001b[38;5;241m*\u001b[39mkey, takeable\u001b[38;5;241m=\u001b[39m\u001b[38;5;28mself\u001b[39m\u001b[38;5;241m.\u001b[39m_takeable)\n\u001b[1;32m-> 1067\u001b[0m     \u001b[38;5;28;01mreturn\u001b[39;00m \u001b[38;5;28;43mself\u001b[39;49m\u001b[38;5;241;43m.\u001b[39;49m\u001b[43m_getitem_tuple\u001b[49m\u001b[43m(\u001b[49m\u001b[43mkey\u001b[49m\u001b[43m)\u001b[49m\n\u001b[0;32m   1068\u001b[0m \u001b[38;5;28;01melse\u001b[39;00m:\n\u001b[0;32m   1069\u001b[0m     \u001b[38;5;66;03m# we by definition only have the 0th axis\u001b[39;00m\n\u001b[0;32m   1070\u001b[0m     axis \u001b[38;5;241m=\u001b[39m \u001b[38;5;28mself\u001b[39m\u001b[38;5;241m.\u001b[39maxis \u001b[38;5;129;01mor\u001b[39;00m \u001b[38;5;241m0\u001b[39m\n",
      "File \u001b[1;32m~\\anaconda3\\lib\\site-packages\\pandas\\core\\indexing.py:1247\u001b[0m, in \u001b[0;36m_LocIndexer._getitem_tuple\u001b[1;34m(self, tup)\u001b[0m\n\u001b[0;32m   1245\u001b[0m \u001b[38;5;28;01mwith\u001b[39;00m suppress(IndexingError):\n\u001b[0;32m   1246\u001b[0m     tup \u001b[38;5;241m=\u001b[39m \u001b[38;5;28mself\u001b[39m\u001b[38;5;241m.\u001b[39m_expand_ellipsis(tup)\n\u001b[1;32m-> 1247\u001b[0m     \u001b[38;5;28;01mreturn\u001b[39;00m \u001b[38;5;28;43mself\u001b[39;49m\u001b[38;5;241;43m.\u001b[39;49m\u001b[43m_getitem_lowerdim\u001b[49m\u001b[43m(\u001b[49m\u001b[43mtup\u001b[49m\u001b[43m)\u001b[49m\n\u001b[0;32m   1249\u001b[0m \u001b[38;5;66;03m# no multi-index, so validate all of the indexers\u001b[39;00m\n\u001b[0;32m   1250\u001b[0m tup \u001b[38;5;241m=\u001b[39m \u001b[38;5;28mself\u001b[39m\u001b[38;5;241m.\u001b[39m_validate_tuple_indexer(tup)\n",
      "File \u001b[1;32m~\\anaconda3\\lib\\site-packages\\pandas\\core\\indexing.py:967\u001b[0m, in \u001b[0;36m_LocationIndexer._getitem_lowerdim\u001b[1;34m(self, tup)\u001b[0m\n\u001b[0;32m    963\u001b[0m \u001b[38;5;28;01mfor\u001b[39;00m i, key \u001b[38;5;129;01min\u001b[39;00m \u001b[38;5;28menumerate\u001b[39m(tup):\n\u001b[0;32m    964\u001b[0m     \u001b[38;5;28;01mif\u001b[39;00m is_label_like(key):\n\u001b[0;32m    965\u001b[0m         \u001b[38;5;66;03m# We don't need to check for tuples here because those are\u001b[39;00m\n\u001b[0;32m    966\u001b[0m         \u001b[38;5;66;03m#  caught by the _is_nested_tuple_indexer check above.\u001b[39;00m\n\u001b[1;32m--> 967\u001b[0m         section \u001b[38;5;241m=\u001b[39m \u001b[38;5;28;43mself\u001b[39;49m\u001b[38;5;241;43m.\u001b[39;49m\u001b[43m_getitem_axis\u001b[49m\u001b[43m(\u001b[49m\u001b[43mkey\u001b[49m\u001b[43m,\u001b[49m\u001b[43m \u001b[49m\u001b[43maxis\u001b[49m\u001b[38;5;241;43m=\u001b[39;49m\u001b[43mi\u001b[49m\u001b[43m)\u001b[49m\n\u001b[0;32m    969\u001b[0m         \u001b[38;5;66;03m# We should never have a scalar section here, because\u001b[39;00m\n\u001b[0;32m    970\u001b[0m         \u001b[38;5;66;03m#  _getitem_lowerdim is only called after a check for\u001b[39;00m\n\u001b[0;32m    971\u001b[0m         \u001b[38;5;66;03m#  is_scalar_access, which that would be.\u001b[39;00m\n\u001b[0;32m    972\u001b[0m         \u001b[38;5;28;01mif\u001b[39;00m section\u001b[38;5;241m.\u001b[39mndim \u001b[38;5;241m==\u001b[39m \u001b[38;5;28mself\u001b[39m\u001b[38;5;241m.\u001b[39mndim:\n\u001b[0;32m    973\u001b[0m             \u001b[38;5;66;03m# we're in the middle of slicing through a MultiIndex\u001b[39;00m\n\u001b[0;32m    974\u001b[0m             \u001b[38;5;66;03m# revise the key wrt to `section` by inserting an _NS\u001b[39;00m\n",
      "File \u001b[1;32m~\\anaconda3\\lib\\site-packages\\pandas\\core\\indexing.py:1312\u001b[0m, in \u001b[0;36m_LocIndexer._getitem_axis\u001b[1;34m(self, key, axis)\u001b[0m\n\u001b[0;32m   1310\u001b[0m \u001b[38;5;66;03m# fall thru to straight lookup\u001b[39;00m\n\u001b[0;32m   1311\u001b[0m \u001b[38;5;28mself\u001b[39m\u001b[38;5;241m.\u001b[39m_validate_key(key, axis)\n\u001b[1;32m-> 1312\u001b[0m \u001b[38;5;28;01mreturn\u001b[39;00m \u001b[38;5;28;43mself\u001b[39;49m\u001b[38;5;241;43m.\u001b[39;49m\u001b[43m_get_label\u001b[49m\u001b[43m(\u001b[49m\u001b[43mkey\u001b[49m\u001b[43m,\u001b[49m\u001b[43m \u001b[49m\u001b[43maxis\u001b[49m\u001b[38;5;241;43m=\u001b[39;49m\u001b[43maxis\u001b[49m\u001b[43m)\u001b[49m\n",
      "File \u001b[1;32m~\\anaconda3\\lib\\site-packages\\pandas\\core\\indexing.py:1260\u001b[0m, in \u001b[0;36m_LocIndexer._get_label\u001b[1;34m(self, label, axis)\u001b[0m\n\u001b[0;32m   1258\u001b[0m \u001b[38;5;28;01mdef\u001b[39;00m \u001b[38;5;21m_get_label\u001b[39m(\u001b[38;5;28mself\u001b[39m, label, axis: \u001b[38;5;28mint\u001b[39m):\n\u001b[0;32m   1259\u001b[0m     \u001b[38;5;66;03m# GH#5567 this will fail if the label is not present in the axis.\u001b[39;00m\n\u001b[1;32m-> 1260\u001b[0m     \u001b[38;5;28;01mreturn\u001b[39;00m \u001b[38;5;28;43mself\u001b[39;49m\u001b[38;5;241;43m.\u001b[39;49m\u001b[43mobj\u001b[49m\u001b[38;5;241;43m.\u001b[39;49m\u001b[43mxs\u001b[49m\u001b[43m(\u001b[49m\u001b[43mlabel\u001b[49m\u001b[43m,\u001b[49m\u001b[43m \u001b[49m\u001b[43maxis\u001b[49m\u001b[38;5;241;43m=\u001b[39;49m\u001b[43maxis\u001b[49m\u001b[43m)\u001b[49m\n",
      "File \u001b[1;32m~\\anaconda3\\lib\\site-packages\\pandas\\core\\generic.py:4041\u001b[0m, in \u001b[0;36mNDFrame.xs\u001b[1;34m(self, key, axis, level, drop_level)\u001b[0m\n\u001b[0;32m   4039\u001b[0m \u001b[38;5;28;01mif\u001b[39;00m axis \u001b[38;5;241m==\u001b[39m \u001b[38;5;241m1\u001b[39m:\n\u001b[0;32m   4040\u001b[0m     \u001b[38;5;28;01mif\u001b[39;00m drop_level:\n\u001b[1;32m-> 4041\u001b[0m         \u001b[38;5;28;01mreturn\u001b[39;00m \u001b[38;5;28;43mself\u001b[39;49m\u001b[43m[\u001b[49m\u001b[43mkey\u001b[49m\u001b[43m]\u001b[49m\n\u001b[0;32m   4042\u001b[0m     index \u001b[38;5;241m=\u001b[39m \u001b[38;5;28mself\u001b[39m\u001b[38;5;241m.\u001b[39mcolumns\n\u001b[0;32m   4043\u001b[0m \u001b[38;5;28;01melse\u001b[39;00m:\n",
      "File \u001b[1;32m~\\anaconda3\\lib\\site-packages\\pandas\\core\\frame.py:3805\u001b[0m, in \u001b[0;36mDataFrame.__getitem__\u001b[1;34m(self, key)\u001b[0m\n\u001b[0;32m   3803\u001b[0m \u001b[38;5;28;01mif\u001b[39;00m \u001b[38;5;28mself\u001b[39m\u001b[38;5;241m.\u001b[39mcolumns\u001b[38;5;241m.\u001b[39mnlevels \u001b[38;5;241m>\u001b[39m \u001b[38;5;241m1\u001b[39m:\n\u001b[0;32m   3804\u001b[0m     \u001b[38;5;28;01mreturn\u001b[39;00m \u001b[38;5;28mself\u001b[39m\u001b[38;5;241m.\u001b[39m_getitem_multilevel(key)\n\u001b[1;32m-> 3805\u001b[0m indexer \u001b[38;5;241m=\u001b[39m \u001b[38;5;28;43mself\u001b[39;49m\u001b[38;5;241;43m.\u001b[39;49m\u001b[43mcolumns\u001b[49m\u001b[38;5;241;43m.\u001b[39;49m\u001b[43mget_loc\u001b[49m\u001b[43m(\u001b[49m\u001b[43mkey\u001b[49m\u001b[43m)\u001b[49m\n\u001b[0;32m   3806\u001b[0m \u001b[38;5;28;01mif\u001b[39;00m is_integer(indexer):\n\u001b[0;32m   3807\u001b[0m     indexer \u001b[38;5;241m=\u001b[39m [indexer]\n",
      "File \u001b[1;32m~\\anaconda3\\lib\\site-packages\\pandas\\core\\indexes\\base.py:3805\u001b[0m, in \u001b[0;36mIndex.get_loc\u001b[1;34m(self, key, method, tolerance)\u001b[0m\n\u001b[0;32m   3803\u001b[0m     \u001b[38;5;28;01mreturn\u001b[39;00m \u001b[38;5;28mself\u001b[39m\u001b[38;5;241m.\u001b[39m_engine\u001b[38;5;241m.\u001b[39mget_loc(casted_key)\n\u001b[0;32m   3804\u001b[0m \u001b[38;5;28;01mexcept\u001b[39;00m \u001b[38;5;167;01mKeyError\u001b[39;00m \u001b[38;5;28;01mas\u001b[39;00m err:\n\u001b[1;32m-> 3805\u001b[0m     \u001b[38;5;28;01mraise\u001b[39;00m \u001b[38;5;167;01mKeyError\u001b[39;00m(key) \u001b[38;5;28;01mfrom\u001b[39;00m \u001b[38;5;21;01merr\u001b[39;00m\n\u001b[0;32m   3806\u001b[0m \u001b[38;5;28;01mexcept\u001b[39;00m \u001b[38;5;167;01mTypeError\u001b[39;00m:\n\u001b[0;32m   3807\u001b[0m     \u001b[38;5;66;03m# If we have a listlike key, _check_indexing_error will raise\u001b[39;00m\n\u001b[0;32m   3808\u001b[0m     \u001b[38;5;66;03m#  InvalidIndexError. Otherwise we fall through and re-raise\u001b[39;00m\n\u001b[0;32m   3809\u001b[0m     \u001b[38;5;66;03m#  the TypeError.\u001b[39;00m\n\u001b[0;32m   3810\u001b[0m     \u001b[38;5;28mself\u001b[39m\u001b[38;5;241m.\u001b[39m_check_indexing_error(key)\n",
      "\u001b[1;31mKeyError\u001b[0m: 'country_code'"
     ]
    }
   ],
   "source": [
    "#df2 = process_data(RAW_DATA_PATH)\n",
    "#df2.head(1)"
   ]
  },
  {
   "cell_type": "code",
   "execution_count": 235,
   "id": "dd0d25fb-7e34-44a2-864c-586df2233ac1",
   "metadata": {},
   "outputs": [],
   "source": [
    "# -------------------- Geral "
   ]
  },
  {
   "cell_type": "raw",
   "id": "d330ef1b-27f8-49c6-8cb0-e0e6d662fe26",
   "metadata": {},
   "source": [
    "1. Quantos restaurantes únicos estão registrados?"
   ]
  },
  {
   "cell_type": "code",
   "execution_count": 258,
   "id": "dd9117d5-782e-439f-8584-cd219a2d777c",
   "metadata": {},
   "outputs": [
    {
     "data": {
      "text/plain": [
       "6929"
      ]
     },
     "execution_count": 258,
     "metadata": {},
     "output_type": "execute_result"
    }
   ],
   "source": [
    "restaurant_uniques = len(df1.loc[:, 'restaurant'].unique())\n",
    "restaurant_uniques\n",
    "\n",
    "# df2.shape[0] ---> meigaron"
   ]
  },
  {
   "cell_type": "raw",
   "id": "74940bde-fe36-4ab1-87e0-9b0253d8218f",
   "metadata": {},
   "source": [
    "2. Quantos países únicos estão registrados?"
   ]
  },
  {
   "cell_type": "code",
   "execution_count": 259,
   "id": "5e6b3f96-d6c3-4e15-af1b-bd8c0ab81c38",
   "metadata": {},
   "outputs": [
    {
     "data": {
      "text/plain": [
       "15"
      ]
     },
     "execution_count": 259,
     "metadata": {},
     "output_type": "execute_result"
    }
   ],
   "source": [
    "countries_uniques = len(df1.loc[:, 'country'].unique())\n",
    "countries_uniques"
   ]
  },
  {
   "cell_type": "raw",
   "id": "bd6c2a8c-ce13-4048-a5cc-aac813152b49",
   "metadata": {},
   "source": [
    "3. Quantas cidades únicas estão registradas?"
   ]
  },
  {
   "cell_type": "code",
   "execution_count": 260,
   "id": "634b7908-4494-4e37-aedc-c4a42c3849fb",
   "metadata": {},
   "outputs": [
    {
     "data": {
      "text/plain": [
       "125"
      ]
     },
     "execution_count": 260,
     "metadata": {},
     "output_type": "execute_result"
    }
   ],
   "source": [
    "cities_uniques = len(df1.loc[:, 'city'].unique())\n",
    "cities_uniques\n",
    "\n",
    "\n",
    "# df2.loc[:, 'city'].nunique()"
   ]
  },
  {
   "cell_type": "raw",
   "id": "a8d9deb8-95ce-49b1-964e-5c33e355745f",
   "metadata": {},
   "source": [
    "4. Qual o total de avaliações feitas?"
   ]
  },
  {
   "cell_type": "code",
   "execution_count": 261,
   "id": "70bf3176-089f-4c8a-8de6-d1b102d06615",
   "metadata": {},
   "outputs": [
    {
     "data": {
      "text/plain": [
       "4194533"
      ]
     },
     "execution_count": 261,
     "metadata": {},
     "output_type": "execute_result"
    }
   ],
   "source": [
    "df1.loc[:, 'votes'].sum()"
   ]
  },
  {
   "cell_type": "raw",
   "id": "4dee643e-5cbc-4007-a34f-14e0966ee6ba",
   "metadata": {},
   "source": [
    "5. Qual o total de tipos de culinária registrados?"
   ]
  },
  {
   "cell_type": "code",
   "execution_count": 264,
   "id": "b16f45ec-9956-490d-8d81-6e3a94db6c32",
   "metadata": {},
   "outputs": [
    {
     "data": {
      "text/plain": [
       "165"
      ]
     },
     "execution_count": 264,
     "metadata": {},
     "output_type": "execute_result"
    }
   ],
   "source": [
    "df1.loc[:, 'cuisines'].nunique()"
   ]
  },
  {
   "cell_type": "code",
   "execution_count": null,
   "id": "c31cb066-3a9b-436c-8863-4811c8dca904",
   "metadata": {},
   "outputs": [],
   "source": [
    "# --------------- Pais"
   ]
  },
  {
   "cell_type": "raw",
   "id": "13b89596-401f-4c82-b614-1e6203af27c3",
   "metadata": {},
   "source": [
    "1. Qual o nome do país que possui mais cidades registradas?"
   ]
  },
  {
   "cell_type": "code",
   "execution_count": null,
   "id": "bf782a37-316b-4160-895d-22394f69ccbd",
   "metadata": {},
   "outputs": [],
   "source": [
    "df_aux = (df1.loc[:, ['city', 'country']]\n",
    "                 .groupby('country')\n",
    "                 .nunique()\n",
    "                 .sort_values('city', ascending=False)\n",
    "                 .reset_index()\n",
    "                 .iloc[0, 0])\n",
    "\n",
    "df_aux"
   ]
  },
  {
   "cell_type": "raw",
   "id": "6d89582d-f82c-4c90-9170-8c4afdb6d95d",
   "metadata": {},
   "source": [
    "2. Qual o nome do país que possui mais restaurantes registrados?"
   ]
  },
  {
   "cell_type": "code",
   "execution_count": 279,
   "id": "5971bfd1-9c37-481b-b26a-d7849bb20eed",
   "metadata": {},
   "outputs": [
    {
     "data": {
      "text/plain": [
       "'India'"
      ]
     },
     "execution_count": 279,
     "metadata": {},
     "output_type": "execute_result"
    }
   ],
   "source": [
    "df_aux = (df1.loc[:, ['restaurant', 'country']]\n",
    "                 .groupby('country')\n",
    "                 .nunique()\n",
    "                 .sort_values('restaurant', ascending=False)\n",
    "                 .reset_index()\n",
    "                 .iloc[0, 0])\n",
    "\n",
    "df_aux"
   ]
  },
  {
   "cell_type": "raw",
   "id": "2bb8264d-9d13-40f8-969c-db5789eb7023",
   "metadata": {},
   "source": [
    "3. Qual o nome do país que possui mais restaurantes com o nível de preço igual a 4 registrados?"
   ]
  },
  {
   "cell_type": "code",
   "execution_count": 286,
   "id": "2d5c1ef3-fc04-4649-8b5b-d2b58b8985b3",
   "metadata": {},
   "outputs": [
    {
     "data": {
      "text/plain": [
       "'India'"
      ]
     },
     "execution_count": 286,
     "metadata": {},
     "output_type": "execute_result"
    }
   ],
   "source": [
    "(df1.loc[df1['aggregate_rating'] >= 4, ['restaurant', 'country']]\n",
    "                                         .groupby('country')\n",
    "                                         .count()\n",
    "                                         .sort_values('restaurant', ascending=False)\n",
    "                                         .reset_index()).iloc[0, 0]"
   ]
  },
  {
   "cell_type": "raw",
   "id": "f5d90a8f-e126-4536-9834-f3884131efe9",
   "metadata": {},
   "source": [
    "4. Qual o nome do país que possui a maior quantidade de tipos de culinária distintos?"
   ]
  },
  {
   "cell_type": "code",
   "execution_count": 287,
   "id": "fc72e22e-4425-446e-b501-3d587afb135d",
   "metadata": {},
   "outputs": [
    {
     "data": {
      "text/plain": [
       "'India'"
      ]
     },
     "execution_count": 287,
     "metadata": {},
     "output_type": "execute_result"
    }
   ],
   "source": [
    "df_aux = (df1.loc[:, ['cuisines', 'country']]\n",
    "                 .groupby('country')\n",
    "                 .nunique()\n",
    "                 .sort_values('cuisines', ascending=False)\n",
    "                 .reset_index()\n",
    "                 .iloc[0, 0])\n",
    "\n",
    "df_aux"
   ]
  },
  {
   "cell_type": "raw",
   "id": "e3fa6a8e-077c-43da-a08c-5602d766f5db",
   "metadata": {},
   "source": [
    "5. Qual o nome do país que possui a maior quantidade de avaliações feitas?"
   ]
  },
  {
   "cell_type": "code",
   "execution_count": 288,
   "id": "3f095d68-d078-4206-87bb-602aa98ead53",
   "metadata": {},
   "outputs": [
    {
     "data": {
      "text/plain": [
       "'India'"
      ]
     },
     "execution_count": 288,
     "metadata": {},
     "output_type": "execute_result"
    }
   ],
   "source": [
    "df_aux = (df1.loc[:, ['votes', 'country']]\n",
    "                 .groupby('country')\n",
    "                 .nunique()\n",
    "                 .sort_values('votes', ascending=False)\n",
    "                 .reset_index()\n",
    "                 .iloc[0, 0])\n",
    "\n",
    "df_aux"
   ]
  },
  {
   "cell_type": "raw",
   "id": "125bee81-592a-47a4-94fd-125c96880f43",
   "metadata": {},
   "source": [
    "6. Qual o nome do país que possui a maior quantidade de restaurantes que fazem entrega?"
   ]
  },
  {
   "cell_type": "code",
   "execution_count": 292,
   "id": "0ecebce1-5566-40ac-98a3-3b3e0e702def",
   "metadata": {},
   "outputs": [
    {
     "data": {
      "text/plain": [
       "'India'"
      ]
     },
     "execution_count": 292,
     "metadata": {},
     "output_type": "execute_result"
    }
   ],
   "source": [
    "(df1.loc[df1['is_delivering_now'] == 1, ['restaurant', 'country']]\n",
    "                                         .groupby('country')\n",
    "                                         .count()\n",
    "                                         .sort_values('restaurant', ascending=False)\n",
    "                                         .reset_index()).iloc[0, 0]\n",
    "\n",
    "\n"
   ]
  },
  {
   "cell_type": "raw",
   "id": "d876b639-9e0a-4006-b815-d9637c502cee",
   "metadata": {},
   "source": [
    "7. Qual o nome do país que possui a maior quantidade de restaurantes que aceitam reservas?"
   ]
  },
  {
   "cell_type": "code",
   "execution_count": 293,
   "id": "ddb4879b-0225-425c-8874-e8a4a5dce308",
   "metadata": {},
   "outputs": [
    {
     "data": {
      "text/plain": [
       "'India'"
      ]
     },
     "execution_count": 293,
     "metadata": {},
     "output_type": "execute_result"
    }
   ],
   "source": [
    "(df1.loc[df1['has_table_booking'] == 1, ['restaurant', 'country']]\n",
    "                                         .groupby('country')\n",
    "                                         .count()\n",
    "                                         .sort_values('restaurant', ascending=False)\n",
    "                                         .reset_index()).iloc[0, 0]"
   ]
  },
  {
   "cell_type": "raw",
   "id": "7467f746-e5cb-47f3-b6e7-4f4f67baa9fc",
   "metadata": {},
   "source": [
    "8. Qual o nome do país que possui, na média, a maior quantidade de avaliações registrada?"
   ]
  },
  {
   "cell_type": "code",
   "execution_count": 296,
   "id": "0365d1f2-f2e3-42c4-a12d-a7fffd672e38",
   "metadata": {},
   "outputs": [
    {
     "data": {
      "text/plain": [
       "'Indonesia'"
      ]
     },
     "execution_count": 296,
     "metadata": {},
     "output_type": "execute_result"
    }
   ],
   "source": [
    "(df1.loc[:, ['country', 'votes']]\n",
    "        .groupby('country')\n",
    "        .mean()\n",
    "        .sort_values('votes', ascending=False)\n",
    "        .reset_index()).iloc[0, 0]\n"
   ]
  },
  {
   "cell_type": "raw",
   "id": "66122b57-248a-4c46-844a-550c982b7a0b",
   "metadata": {},
   "source": [
    "9. Qual o nome do país que possui, na média, a maior nota média registrada?"
   ]
  },
  {
   "cell_type": "code",
   "execution_count": 297,
   "id": "ebff259c-17e2-4783-bb01-b3f7f7a9e0a1",
   "metadata": {},
   "outputs": [
    {
     "data": {
      "text/plain": [
       "'Indonesia'"
      ]
     },
     "execution_count": 297,
     "metadata": {},
     "output_type": "execute_result"
    }
   ],
   "source": [
    "(df1.loc[:, ['country', 'aggregate_rating']]\n",
    "        .groupby('country')\n",
    "        .mean()\n",
    "        .sort_values('aggregate_rating', ascending=False)\n",
    "        .reset_index()).iloc[0, 0]\n"
   ]
  },
  {
   "cell_type": "raw",
   "id": "8c4586f9-2fa2-4995-bcf2-ff8837b77c86",
   "metadata": {},
   "source": [
    "10. Qual o nome do país que possui, na média, a menor nota média registrada?"
   ]
  },
  {
   "cell_type": "code",
   "execution_count": 298,
   "id": "8af64318-3f08-416c-9bf6-d9d744cbf10f",
   "metadata": {},
   "outputs": [
    {
     "data": {
      "text/plain": [
       "'Brazil'"
      ]
     },
     "execution_count": 298,
     "metadata": {},
     "output_type": "execute_result"
    }
   ],
   "source": [
    "(df1.loc[:, ['country', 'aggregate_rating']]\n",
    "        .groupby('country')\n",
    "        .mean()\n",
    "        .sort_values('aggregate_rating', ascending=True)\n",
    "        .reset_index()).iloc[0, 0]\n"
   ]
  },
  {
   "cell_type": "raw",
   "id": "31f4664d-c630-452b-9e34-98c0d88790aa",
   "metadata": {},
   "source": [
    "11. Qual a média de preço de um prato para dois por país?"
   ]
  },
  {
   "cell_type": "code",
   "execution_count": 300,
   "id": "8ddf98a7-767f-4a85-9a3a-cc26b1c4c447",
   "metadata": {
    "collapsed": true,
    "jupyter": {
     "outputs_hidden": true
    },
    "tags": []
   },
   "outputs": [
    {
     "data": {
      "text/html": [
       "<div>\n",
       "<style scoped>\n",
       "    .dataframe tbody tr th:only-of-type {\n",
       "        vertical-align: middle;\n",
       "    }\n",
       "\n",
       "    .dataframe tbody tr th {\n",
       "        vertical-align: top;\n",
       "    }\n",
       "\n",
       "    .dataframe thead th {\n",
       "        text-align: right;\n",
       "    }\n",
       "</style>\n",
       "<table border=\"1\" class=\"dataframe\">\n",
       "  <thead>\n",
       "    <tr style=\"text-align: right;\">\n",
       "      <th></th>\n",
       "      <th>country</th>\n",
       "      <th>average_cost_for_two</th>\n",
       "    </tr>\n",
       "  </thead>\n",
       "  <tbody>\n",
       "    <tr>\n",
       "      <th>0</th>\n",
       "      <td>Indonesia</td>\n",
       "      <td>303000.000000</td>\n",
       "    </tr>\n",
       "    <tr>\n",
       "      <th>1</th>\n",
       "      <td>Australia</td>\n",
       "      <td>138959.783333</td>\n",
       "    </tr>\n",
       "    <tr>\n",
       "      <th>2</th>\n",
       "      <td>Sri Lanka</td>\n",
       "      <td>2579.375000</td>\n",
       "    </tr>\n",
       "    <tr>\n",
       "      <th>3</th>\n",
       "      <td>Philippines</td>\n",
       "      <td>1227.825000</td>\n",
       "    </tr>\n",
       "    <tr>\n",
       "      <th>4</th>\n",
       "      <td>India</td>\n",
       "      <td>704.400514</td>\n",
       "    </tr>\n",
       "    <tr>\n",
       "      <th>5</th>\n",
       "      <td>South Africa</td>\n",
       "      <td>339.228324</td>\n",
       "    </tr>\n",
       "    <tr>\n",
       "      <th>6</th>\n",
       "      <td>Qatar</td>\n",
       "      <td>174.000000</td>\n",
       "    </tr>\n",
       "    <tr>\n",
       "      <th>7</th>\n",
       "      <td>United Arab Emirates</td>\n",
       "      <td>153.716667</td>\n",
       "    </tr>\n",
       "    <tr>\n",
       "      <th>8</th>\n",
       "      <td>Singapure</td>\n",
       "      <td>141.437500</td>\n",
       "    </tr>\n",
       "    <tr>\n",
       "      <th>9</th>\n",
       "      <td>Brazil</td>\n",
       "      <td>138.812500</td>\n",
       "    </tr>\n",
       "    <tr>\n",
       "      <th>10</th>\n",
       "      <td>Turkey</td>\n",
       "      <td>128.584906</td>\n",
       "    </tr>\n",
       "    <tr>\n",
       "      <th>11</th>\n",
       "      <td>New Zeland</td>\n",
       "      <td>62.154812</td>\n",
       "    </tr>\n",
       "    <tr>\n",
       "      <th>12</th>\n",
       "      <td>United States of America</td>\n",
       "      <td>55.029840</td>\n",
       "    </tr>\n",
       "    <tr>\n",
       "      <th>13</th>\n",
       "      <td>England</td>\n",
       "      <td>43.510000</td>\n",
       "    </tr>\n",
       "    <tr>\n",
       "      <th>14</th>\n",
       "      <td>Canada</td>\n",
       "      <td>41.861111</td>\n",
       "    </tr>\n",
       "  </tbody>\n",
       "</table>\n",
       "</div>"
      ],
      "text/plain": [
       "                     country  average_cost_for_two\n",
       "0                  Indonesia         303000.000000\n",
       "1                  Australia         138959.783333\n",
       "2                  Sri Lanka           2579.375000\n",
       "3                Philippines           1227.825000\n",
       "4                      India            704.400514\n",
       "5               South Africa            339.228324\n",
       "6                      Qatar            174.000000\n",
       "7       United Arab Emirates            153.716667\n",
       "8                  Singapure            141.437500\n",
       "9                     Brazil            138.812500\n",
       "10                    Turkey            128.584906\n",
       "11                New Zeland             62.154812\n",
       "12  United States of America             55.029840\n",
       "13                   England             43.510000\n",
       "14                    Canada             41.861111"
      ]
     },
     "execution_count": 300,
     "metadata": {},
     "output_type": "execute_result"
    }
   ],
   "source": [
    "(df1.loc[:, ['country', 'average_cost_for_two']]\n",
    "        .groupby('country')\n",
    "        .mean()\n",
    "        .sort_values('average_cost_for_two', ascending=False)\n",
    "        .reset_index())\n"
   ]
  },
  {
   "cell_type": "code",
   "execution_count": null,
   "id": "3697f248-2854-43f6-abb5-795abaa92776",
   "metadata": {},
   "outputs": [],
   "source": [
    "# --------------- Cidade"
   ]
  },
  {
   "cell_type": "raw",
   "id": "86dd2306-e56e-42d0-91d3-5589b118ea28",
   "metadata": {},
   "source": [
    "1. Qual o nome da cidade que possui mais restaurantes registrados?"
   ]
  },
  {
   "cell_type": "code",
   "execution_count": 302,
   "id": "dcc4e9a4-7c73-4846-99fa-d7f660af8d35",
   "metadata": {},
   "outputs": [
    {
     "data": {
      "text/plain": [
       "'Abu Dhabi'"
      ]
     },
     "execution_count": 302,
     "metadata": {},
     "output_type": "execute_result"
    }
   ],
   "source": [
    "(df1.loc[:, ['city', 'restaurant']]\n",
    "        .groupby('city')\n",
    "        .count()\n",
    "        .sort_values('restaurant', ascending=False)\n",
    "        .reset_index()).iloc[0, 0]"
   ]
  },
  {
   "cell_type": "raw",
   "id": "fe7b9f51-d591-4878-be75-8986f76033eb",
   "metadata": {},
   "source": [
    "2. Qual o nome da cidade que possui mais restaurantes com nota média acima de 4?"
   ]
  },
  {
   "cell_type": "code",
   "execution_count": 303,
   "id": "b44a9043-a75f-4e07-b88e-143e72bf32ac",
   "metadata": {},
   "outputs": [
    {
     "data": {
      "text/plain": [
       "'London'"
      ]
     },
     "execution_count": 303,
     "metadata": {},
     "output_type": "execute_result"
    }
   ],
   "source": [
    "(df1.loc[df1['aggregate_rating'] >= 4, ['restaurant', 'city']]\n",
    "                                         .groupby('city')\n",
    "                                         .count()\n",
    "                                         .sort_values('restaurant', ascending=False)\n",
    "                                         .reset_index()).iloc[0, 0]"
   ]
  },
  {
   "cell_type": "raw",
   "id": "6cca37c0-c0f3-4b97-bc92-8b24ded5d586",
   "metadata": {},
   "source": [
    "3. Qual o nome da cidade que possui mais restaurantes com nota média abaixo de 2.5?"
   ]
  },
  {
   "cell_type": "code",
   "execution_count": 304,
   "id": "bebc9f5e-b654-40f3-bde2-e633a9ce54f7",
   "metadata": {},
   "outputs": [
    {
     "data": {
      "text/plain": [
       "'Gangtok'"
      ]
     },
     "execution_count": 304,
     "metadata": {},
     "output_type": "execute_result"
    }
   ],
   "source": [
    "(df1.loc[df1['aggregate_rating'] <= 2.5, ['restaurant', 'city']]\n",
    "                                         .groupby('city')\n",
    "                                         .count()\n",
    "                                         .sort_values('restaurant', ascending=False)\n",
    "                                         .reset_index()).iloc[0, 0]"
   ]
  },
  {
   "cell_type": "raw",
   "id": "bc85c1a4-d01e-408c-b010-75d7a57be027",
   "metadata": {},
   "source": [
    "4. Qual o nome da cidade que possui o maior valor médio de um prato para dois?"
   ]
  },
  {
   "cell_type": "code",
   "execution_count": 316,
   "id": "d3a3937a-a757-47c8-9417-09a749d26ed8",
   "metadata": {},
   "outputs": [
    {
     "data": {
      "text/plain": [
       "'Adelaide'"
      ]
     },
     "execution_count": 316,
     "metadata": {},
     "output_type": "execute_result"
    }
   ],
   "source": [
    "(df1.loc[:, ['city', 'average_cost_for_two']]\n",
    "        .groupby('city')\n",
    "        .mean()\n",
    "        .sort_values('average_cost_for_two', ascending=False)\n",
    "        .reset_index()).iloc[0, 0]"
   ]
  },
  {
   "cell_type": "raw",
   "id": "076cf978-250a-41d5-9f82-42d408360cda",
   "metadata": {},
   "source": [
    "5. Qual o nome da cidade que possui a maior quantidade de tipos de culinária distintas?"
   ]
  },
  {
   "cell_type": "code",
   "execution_count": 319,
   "id": "c708812a-9fdc-4e23-927c-12a1ff1bd849",
   "metadata": {},
   "outputs": [
    {
     "data": {
      "text/plain": [
       "'Birmingham'"
      ]
     },
     "execution_count": 319,
     "metadata": {},
     "output_type": "execute_result"
    }
   ],
   "source": [
    "(df1.loc[:, ['city', 'cuisines']]\n",
    "        .groupby('city')\n",
    "        .nunique()\n",
    "        .sort_values('cuisines', ascending=False)\n",
    "        .reset_index()).iloc[0, 0]"
   ]
  },
  {
   "cell_type": "raw",
   "id": "1b364c11-4f3f-461f-8f92-58266c5539c2",
   "metadata": {},
   "source": [
    "6. Qual o nome da cidade que possui a maior quantidade de restaurantes que fazem reservas?"
   ]
  },
  {
   "cell_type": "code",
   "execution_count": 320,
   "id": "af6dd2a1-ba89-42cd-921d-53f9021de0bd",
   "metadata": {},
   "outputs": [
    {
     "data": {
      "text/plain": [
       "'Bangalore'"
      ]
     },
     "execution_count": 320,
     "metadata": {},
     "output_type": "execute_result"
    }
   ],
   "source": [
    "(df1.loc[df1['has_table_booking'] == 1, ['city', 'restaurant']]\n",
    "                                        .groupby('city')\n",
    "                                        .count()\n",
    "                                        .sort_values('restaurant', ascending=False)\n",
    "                                        .reset_index()).iloc[0, 0]"
   ]
  },
  {
   "cell_type": "raw",
   "id": "504b2e20-e7ed-4273-a6eb-f0c9a5d880ef",
   "metadata": {},
   "source": [
    "7. Qual o nome da cidade que possui a maior quantidade de restaurantes que fazem entregas?"
   ]
  },
  {
   "cell_type": "code",
   "execution_count": 321,
   "id": "919ed7e8-4009-4ba8-befa-e6bd4864e183",
   "metadata": {},
   "outputs": [
    {
     "data": {
      "text/plain": [
       "'Vadodara'"
      ]
     },
     "execution_count": 321,
     "metadata": {},
     "output_type": "execute_result"
    }
   ],
   "source": [
    "(df1.loc[df1['is_delivering_now'] == 1, ['city', 'restaurant']]\n",
    "                                        .groupby('city')\n",
    "                                        .count()\n",
    "                                        .sort_values('restaurant', ascending=False)\n",
    "                                        .reset_index()).iloc[0, 0]"
   ]
  },
  {
   "cell_type": "raw",
   "id": "c87684b0-3d66-43ee-8fa9-1b51f1210c69",
   "metadata": {},
   "source": [
    "8. Qual o nome da cidade que possui a maior quantidade de restaurantes que aceitam pedidos online?"
   ]
  },
  {
   "cell_type": "code",
   "execution_count": 322,
   "id": "23341390-ff73-47ac-ad8c-6cc241cef20b",
   "metadata": {},
   "outputs": [
    {
     "data": {
      "text/plain": [
       "'Bhopal'"
      ]
     },
     "execution_count": 322,
     "metadata": {},
     "output_type": "execute_result"
    }
   ],
   "source": [
    "(df1.loc[df1['has_online_delivery'] == 1, ['city', 'restaurant']]\n",
    "                                        .groupby('city')\n",
    "                                        .count()\n",
    "                                        .sort_values('restaurant', ascending=False)\n",
    "                                        .reset_index()).iloc[0, 0]"
   ]
  },
  {
   "cell_type": "code",
   "execution_count": null,
   "id": "17dd4739-de86-435e-9d27-e48d70b1e7da",
   "metadata": {},
   "outputs": [],
   "source": [
    "# --------------- Restaurantes"
   ]
  },
  {
   "cell_type": "raw",
   "id": "151da596-3278-4729-92fd-07dc572ef176",
   "metadata": {},
   "source": [
    "1. Qual o nome do restaurante que possui a maior quantidade de avaliações?"
   ]
  },
  {
   "cell_type": "code",
   "execution_count": 335,
   "id": "e36f76fd-aa2c-47f2-9922-4c4aa8f9a4a8",
   "metadata": {},
   "outputs": [
    {
     "data": {
      "text/plain": [
       "'Bawarchi'"
      ]
     },
     "execution_count": 335,
     "metadata": {},
     "output_type": "execute_result"
    }
   ],
   "source": [
    "cols = ['restaurant', 'restaurant_name', 'votes']\n",
    "\n",
    "df1.loc[:, cols].sort_values(['votes', 'restaurant'], ascending=[False, True]).iloc[0, 1]\n"
   ]
  },
  {
   "cell_type": "raw",
   "id": "2f7e22e3-a5d7-4211-bc04-776e5ecc0870",
   "metadata": {},
   "source": [
    "2. Qual o nome do restaurante com a maior nota média?"
   ]
  },
  {
   "cell_type": "code",
   "execution_count": 340,
   "id": "83b1262f-7913-44d2-8d0e-0764290a382d",
   "metadata": {},
   "outputs": [
    {
     "data": {
      "text/plain": [
       "'Indian Grill Room'"
      ]
     },
     "execution_count": 340,
     "metadata": {},
     "output_type": "execute_result"
    }
   ],
   "source": [
    "cols = ['restaurant', 'restaurant_name', 'aggregate_rating']\n",
    "\n",
    "df1.loc[:, cols].sort_values(['aggregate_rating', 'restaurant'], ascending=[False, True]).iloc[0, 1]"
   ]
  },
  {
   "cell_type": "raw",
   "id": "e2d8edc8-92c3-4f84-885b-d4969e54862b",
   "metadata": {},
   "source": [
    "3. Qual o nome do restaurante que possui o maior valor de uma prato para duas pessoas?"
   ]
  },
  {
   "cell_type": "code",
   "execution_count": 341,
   "id": "d27fd7c1-cb03-4edb-a86b-9629167d991a",
   "metadata": {},
   "outputs": [
    {
     "data": {
      "text/plain": [
       "\"d'Arry's Verandah Restaurant\""
      ]
     },
     "execution_count": 341,
     "metadata": {},
     "output_type": "execute_result"
    }
   ],
   "source": [
    "cols = ['restaurant', 'restaurant_name', 'average_cost_for_two']\n",
    "\n",
    "df1.loc[:, cols].sort_values(['average_cost_for_two', 'restaurant'], ascending=[False, True]).iloc[0, 1]"
   ]
  },
  {
   "cell_type": "raw",
   "id": "5c5f6d02-e149-4421-9754-fd49478670ef",
   "metadata": {},
   "source": [
    "4. Qual o nome do restaurante de tipo de culinária brasileira que possui a menor média de avaliação?"
   ]
  },
  {
   "cell_type": "code",
   "execution_count": 349,
   "id": "437e9d85-468e-4d66-a40f-ac070848f3e0",
   "metadata": {},
   "outputs": [
    {
     "data": {
      "text/plain": [
       "'Loca Como tu Madre'"
      ]
     },
     "execution_count": 349,
     "metadata": {},
     "output_type": "execute_result"
    }
   ],
   "source": [
    "cols = ['restaurant', 'restaurant_name', 'aggregate_rating']\n",
    "\n",
    "df1.loc[df1['cuisines'] == 'Brazilian', cols].sort_values(['aggregate_rating', 'restaurant'], ascending=True).iloc[0, 1]"
   ]
  },
  {
   "cell_type": "raw",
   "id": "43d5c6de-1e6c-408f-ae64-3b94c43f5636",
   "metadata": {},
   "source": [
    "5. Qual o nome do restaurante de tipo de culinária brasileira, e que é do Brasil, que possui a maior média de avaliação?"
   ]
  },
  {
   "cell_type": "code",
   "execution_count": 354,
   "id": "67f21bf9-bcc2-4e52-a704-8c6cea5b9c97",
   "metadata": {},
   "outputs": [
    {
     "data": {
      "text/plain": [
       "'Braseiro da Gávea'"
      ]
     },
     "execution_count": 354,
     "metadata": {},
     "output_type": "execute_result"
    }
   ],
   "source": [
    "cols = ['restaurant', 'restaurant_name', 'aggregate_rating']\n",
    "\n",
    "lines = (df1['cuisines'] == 'Brazilian') & (df1['country'] == 'Brazil')\n",
    "\n",
    "df1.loc[lines, cols].sort_values(['aggregate_rating', 'restaurant'], ascending=[False, True]).iloc[0, 1]\n",
    "\n"
   ]
  },
  {
   "cell_type": "raw",
   "id": "ffd7ecf3-420d-47fe-bc45-e536e8c9f3be",
   "metadata": {},
   "source": [
    "6. Os restaurantes que aceitam pedido online são também, na média, os restaurantes que mais possuem avaliações registradas?"
   ]
  },
  {
   "cell_type": "code",
   "execution_count": 355,
   "id": "cd5004e0-3a16-4c1b-a20f-60238d83f357",
   "metadata": {},
   "outputs": [
    {
     "data": {
      "text/html": [
       "<div>\n",
       "<style scoped>\n",
       "    .dataframe tbody tr th:only-of-type {\n",
       "        vertical-align: middle;\n",
       "    }\n",
       "\n",
       "    .dataframe tbody tr th {\n",
       "        vertical-align: top;\n",
       "    }\n",
       "\n",
       "    .dataframe thead th {\n",
       "        text-align: right;\n",
       "    }\n",
       "</style>\n",
       "<table border=\"1\" class=\"dataframe\">\n",
       "  <thead>\n",
       "    <tr style=\"text-align: right;\">\n",
       "      <th></th>\n",
       "      <th>has_online_delivery</th>\n",
       "      <th>votes</th>\n",
       "    </tr>\n",
       "  </thead>\n",
       "  <tbody>\n",
       "    <tr>\n",
       "      <th>0</th>\n",
       "      <td>1</td>\n",
       "      <td>838.821664</td>\n",
       "    </tr>\n",
       "    <tr>\n",
       "      <th>1</th>\n",
       "      <td>0</td>\n",
       "      <td>479.421018</td>\n",
       "    </tr>\n",
       "  </tbody>\n",
       "</table>\n",
       "</div>"
      ],
      "text/plain": [
       "   has_online_delivery       votes\n",
       "0                    1  838.821664\n",
       "1                    0  479.421018"
      ]
     },
     "execution_count": 355,
     "metadata": {},
     "output_type": "execute_result"
    }
   ],
   "source": [
    "(df1.loc[:, ['votes', 'has_online_delivery'] ]\n",
    "                                         .groupby('has_online_delivery')\n",
    "                                         .mean()\n",
    "                                         .sort_values('votes', ascending=False)\n",
    "                                         .reset_index())"
   ]
  },
  {
   "cell_type": "raw",
   "id": "7ab245c0-6693-4e85-b0f8-bfcfe5d2a8be",
   "metadata": {},
   "source": [
    "7. Os restaurantes que fazem reservas são também, na média, os restaurantes que possuem o maior valor médio de um prato para duas pessoas?"
   ]
  },
  {
   "cell_type": "code",
   "execution_count": 356,
   "id": "7355a003-bef0-4efc-9113-dc9f086bcaf6",
   "metadata": {},
   "outputs": [
    {
     "data": {
      "text/html": [
       "<div>\n",
       "<style scoped>\n",
       "    .dataframe tbody tr th:only-of-type {\n",
       "        vertical-align: middle;\n",
       "    }\n",
       "\n",
       "    .dataframe tbody tr th {\n",
       "        vertical-align: top;\n",
       "    }\n",
       "\n",
       "    .dataframe thead th {\n",
       "        text-align: right;\n",
       "    }\n",
       "</style>\n",
       "<table border=\"1\" class=\"dataframe\">\n",
       "  <thead>\n",
       "    <tr style=\"text-align: right;\">\n",
       "      <th></th>\n",
       "      <th>has_table_booking</th>\n",
       "      <th>average_cost_for_two</th>\n",
       "    </tr>\n",
       "  </thead>\n",
       "  <tbody>\n",
       "    <tr>\n",
       "      <th>0</th>\n",
       "      <td>1</td>\n",
       "      <td>69998.423810</td>\n",
       "    </tr>\n",
       "    <tr>\n",
       "      <th>1</th>\n",
       "      <td>0</td>\n",
       "      <td>3488.596866</td>\n",
       "    </tr>\n",
       "  </tbody>\n",
       "</table>\n",
       "</div>"
      ],
      "text/plain": [
       "   has_table_booking  average_cost_for_two\n",
       "0                  1          69998.423810\n",
       "1                  0           3488.596866"
      ]
     },
     "execution_count": 356,
     "metadata": {},
     "output_type": "execute_result"
    }
   ],
   "source": [
    "(df1.loc[:, ['average_cost_for_two', 'has_table_booking'] ]\n",
    "                                         .groupby('has_table_booking')\n",
    "                                         .mean()\n",
    "                                         .sort_values('average_cost_for_two', ascending=False)\n",
    "                                         .reset_index())"
   ]
  },
  {
   "cell_type": "raw",
   "id": "1bbe4130-2420-4417-a66a-54a6ed8835ce",
   "metadata": {},
   "source": [
    "8. Os restaurantes do tipo de culinária japonesa dos Estados Unidos da América possuem um valor médio de prato para duas pessoas maior que as churrascarias americanas (BBQ)?"
   ]
  },
  {
   "cell_type": "code",
   "execution_count": 357,
   "id": "b907bbfd-b676-4cde-9586-1ef2ed8568ca",
   "metadata": {},
   "outputs": [
    {
     "data": {
      "text/html": [
       "<div>\n",
       "<style scoped>\n",
       "    .dataframe tbody tr th:only-of-type {\n",
       "        vertical-align: middle;\n",
       "    }\n",
       "\n",
       "    .dataframe tbody tr th {\n",
       "        vertical-align: top;\n",
       "    }\n",
       "\n",
       "    .dataframe thead th {\n",
       "        text-align: right;\n",
       "    }\n",
       "</style>\n",
       "<table border=\"1\" class=\"dataframe\">\n",
       "  <thead>\n",
       "    <tr style=\"text-align: right;\">\n",
       "      <th></th>\n",
       "      <th>cuisines</th>\n",
       "      <th>average_cost_for_two</th>\n",
       "    </tr>\n",
       "  </thead>\n",
       "  <tbody>\n",
       "    <tr>\n",
       "      <th>0</th>\n",
       "      <td>Japanese</td>\n",
       "      <td>56.406250</td>\n",
       "    </tr>\n",
       "    <tr>\n",
       "      <th>1</th>\n",
       "      <td>BBQ</td>\n",
       "      <td>39.642857</td>\n",
       "    </tr>\n",
       "  </tbody>\n",
       "</table>\n",
       "</div>"
      ],
      "text/plain": [
       "   cuisines  average_cost_for_two\n",
       "0  Japanese             56.406250\n",
       "1       BBQ             39.642857"
      ]
     },
     "execution_count": 357,
     "metadata": {},
     "output_type": "execute_result"
    }
   ],
   "source": [
    "lines = (df1['country'] == 'United States of America') & ((df1['cuisines'] == 'BBQ') | (df1['cuisines'] == 'Japanese'))\n",
    "\n",
    "(df1.loc[lines, ['average_cost_for_two', 'cuisines'] ]\n",
    "                                         .groupby('cuisines')\n",
    "                                         .mean()\n",
    "                                         .sort_values('average_cost_for_two', ascending=False)\n",
    "                                         .reset_index())"
   ]
  },
  {
   "cell_type": "code",
   "execution_count": null,
   "id": "fb98c82a-1897-4b75-a453-3defcfbf3caa",
   "metadata": {},
   "outputs": [],
   "source": [
    "# -------------------- Tipos de Culinária"
   ]
  },
  {
   "cell_type": "raw",
   "id": "4de11901-f986-4a7e-9c2b-f9d2057c7e16",
   "metadata": {},
   "source": [
    "1. Dos restaurantes que possuem o tipo de culinária italiana, qual o nome do restaurante com a maior média de avaliação?"
   ]
  },
  {
   "cell_type": "code",
   "execution_count": 363,
   "id": "3199b710-eadb-4e57-bb1b-71e52e1bf0c5",
   "metadata": {},
   "outputs": [
    {
     "data": {
      "text/plain": [
       "'Darshan'"
      ]
     },
     "execution_count": 363,
     "metadata": {},
     "output_type": "execute_result"
    }
   ],
   "source": [
    "(df1.loc[df1['cuisines'] == 'Italian', ['restaurant_name', 'restaurant', 'aggregate_rating']]\n",
    "                                        .sort_values(['aggregate_rating', 'restaurant'], ascending=[False, True])).iloc[0, 0]"
   ]
  },
  {
   "cell_type": "code",
   "execution_count": 358,
   "id": "83a17fb0-65e1-44a6-8f8a-b06889fcf7f3",
   "metadata": {},
   "outputs": [
    {
     "data": {
      "text/html": [
       "<div>\n",
       "<style scoped>\n",
       "    .dataframe tbody tr th:only-of-type {\n",
       "        vertical-align: middle;\n",
       "    }\n",
       "\n",
       "    .dataframe tbody tr th {\n",
       "        vertical-align: top;\n",
       "    }\n",
       "\n",
       "    .dataframe thead th {\n",
       "        text-align: right;\n",
       "    }\n",
       "</style>\n",
       "<table border=\"1\" class=\"dataframe\">\n",
       "  <thead>\n",
       "    <tr style=\"text-align: right;\">\n",
       "      <th></th>\n",
       "      <th>restaurant</th>\n",
       "      <th>restaurant_name</th>\n",
       "      <th>country</th>\n",
       "      <th>city</th>\n",
       "      <th>address</th>\n",
       "      <th>locality</th>\n",
       "      <th>locality_verbose</th>\n",
       "      <th>longitude</th>\n",
       "      <th>latitude</th>\n",
       "      <th>cuisines</th>\n",
       "      <th>...</th>\n",
       "      <th>average_cost_for_two</th>\n",
       "      <th>currency</th>\n",
       "      <th>has_table_booking</th>\n",
       "      <th>has_online_delivery</th>\n",
       "      <th>is_delivering_now</th>\n",
       "      <th>aggregate_rating</th>\n",
       "      <th>rating_color</th>\n",
       "      <th>color_name</th>\n",
       "      <th>rating_text</th>\n",
       "      <th>votes</th>\n",
       "    </tr>\n",
       "  </thead>\n",
       "  <tbody>\n",
       "    <tr>\n",
       "      <th>0</th>\n",
       "      <td>6310675</td>\n",
       "      <td>Mama Lou's Italian Kitchen</td>\n",
       "      <td>Philippines</td>\n",
       "      <td>Las Piñas City</td>\n",
       "      <td>Block 1, Lot 36, Tropical Avenue Corner Tropic...</td>\n",
       "      <td>BF International</td>\n",
       "      <td>BF International, Las Piñas City</td>\n",
       "      <td>121.009787</td>\n",
       "      <td>14.447615</td>\n",
       "      <td>Italian</td>\n",
       "      <td>...</td>\n",
       "      <td>1100</td>\n",
       "      <td>Botswana Pula(P)</td>\n",
       "      <td>1</td>\n",
       "      <td>0</td>\n",
       "      <td>0</td>\n",
       "      <td>4.6</td>\n",
       "      <td>3F7E00</td>\n",
       "      <td>darkgreen</td>\n",
       "      <td>Excellent</td>\n",
       "      <td>619</td>\n",
       "    </tr>\n",
       "  </tbody>\n",
       "</table>\n",
       "<p>1 rows × 21 columns</p>\n",
       "</div>"
      ],
      "text/plain": [
       "   restaurant             restaurant_name      country            city  \\\n",
       "0     6310675  Mama Lou's Italian Kitchen  Philippines  Las Piñas City   \n",
       "\n",
       "                                             address          locality  \\\n",
       "0  Block 1, Lot 36, Tropical Avenue Corner Tropic...  BF International   \n",
       "\n",
       "                   locality_verbose   longitude   latitude cuisines  ...  \\\n",
       "0  BF International, Las Piñas City  121.009787  14.447615  Italian  ...   \n",
       "\n",
       "  average_cost_for_two          currency has_table_booking  \\\n",
       "0                 1100  Botswana Pula(P)                 1   \n",
       "\n",
       "   has_online_delivery  is_delivering_now  aggregate_rating  rating_color  \\\n",
       "0                    0                  0               4.6        3F7E00   \n",
       "\n",
       "  color_name rating_text votes  \n",
       "0  darkgreen   Excellent   619  \n",
       "\n",
       "[1 rows x 21 columns]"
      ]
     },
     "execution_count": 358,
     "metadata": {},
     "output_type": "execute_result"
    }
   ],
   "source": [
    "df1.head(1)"
   ]
  },
  {
   "cell_type": "raw",
   "id": "8dd6e290-720a-46b5-a5b5-d8d4875c91cd",
   "metadata": {},
   "source": [
    "2. Dos restaurantes que possuem o tipo de culinária italiana, qual o nome do restaurante com a menor média de avaliação?"
   ]
  },
  {
   "cell_type": "code",
   "execution_count": 364,
   "id": "05dacc2e-457b-42d6-a13f-daa55e8dd662",
   "metadata": {},
   "outputs": [
    {
     "data": {
      "text/plain": [
       "'Avenida Paulista'"
      ]
     },
     "execution_count": 364,
     "metadata": {},
     "output_type": "execute_result"
    }
   ],
   "source": [
    "(df1.loc[df1['cuisines'] == 'Italian', ['restaurant_name', 'restaurant', 'aggregate_rating']]\n",
    "                                        .sort_values(['aggregate_rating', 'restaurant'], ascending=True)).iloc[0, 0]"
   ]
  },
  {
   "cell_type": "raw",
   "id": "13b2d2ba-f43c-4720-9b84-d4c6b0513096",
   "metadata": {},
   "source": [
    "3. Dos restaurantes que possuem o tipo de culinária americana, qual o nome do restaurante com a maior média de avaliação?"
   ]
  },
  {
   "cell_type": "code",
   "execution_count": 365,
   "id": "e6adae57-0a7c-42c0-8a3f-ddeb711d8d8c",
   "metadata": {},
   "outputs": [
    {
     "data": {
      "text/plain": [
       "'Burger & Lobster'"
      ]
     },
     "execution_count": 365,
     "metadata": {},
     "output_type": "execute_result"
    }
   ],
   "source": [
    "(df1.loc[df1['cuisines'] == 'American', ['restaurant_name', 'restaurant', 'aggregate_rating']]\n",
    "                                        .sort_values(['aggregate_rating', 'restaurant'], ascending=[False, True])).iloc[0, 0]"
   ]
  },
  {
   "cell_type": "raw",
   "id": "590621d8-b26b-4a55-91d9-815be260079c",
   "metadata": {},
   "source": [
    "4. Dos restaurantes que possuem o tipo de culinária americana, qual o nome do restaurante com a menor média de avaliação?"
   ]
  },
  {
   "cell_type": "code",
   "execution_count": 366,
   "id": "380a5bb7-4c50-4725-a7c2-55b8c55f1217",
   "metadata": {},
   "outputs": [
    {
     "data": {
      "text/plain": [
       "'Alston Bar & Beef'"
      ]
     },
     "execution_count": 366,
     "metadata": {},
     "output_type": "execute_result"
    }
   ],
   "source": [
    "(df1.loc[df1['cuisines'] == 'American', ['restaurant_name', 'restaurant', 'aggregate_rating']]\n",
    "                                        .sort_values(['aggregate_rating', 'restaurant'], ascending=True)).iloc[0, 0]"
   ]
  },
  {
   "cell_type": "raw",
   "id": "5804c818-bbd2-45d4-b949-d395d92698df",
   "metadata": {},
   "source": [
    "5. Dos restaurantes que possuem o tipo de culinária árabe, qual o nome do restaurante com a maior média de avaliação?"
   ]
  },
  {
   "cell_type": "code",
   "execution_count": 367,
   "id": "abc1b718-1735-466a-82de-7fc6e4d57205",
   "metadata": {},
   "outputs": [
    {
     "data": {
      "text/plain": [
       "'Mandi@36'"
      ]
     },
     "execution_count": 367,
     "metadata": {},
     "output_type": "execute_result"
    }
   ],
   "source": [
    "(df1.loc[df1['cuisines'] == 'Arabian', ['restaurant_name', 'restaurant', 'aggregate_rating']]\n",
    "                                        .sort_values(['aggregate_rating', 'restaurant'], ascending=[False, True])).iloc[0, 0]"
   ]
  },
  {
   "cell_type": "raw",
   "id": "11798b62-3c38-4e06-8efe-b4d872684213",
   "metadata": {},
   "source": [
    "6. Dos restaurantes que possuem o tipo de culinária árabe, qual o nome do restaurante com a menor média de avaliação?"
   ]
  },
  {
   "cell_type": "code",
   "execution_count": 368,
   "id": "0954b9aa-0a1b-42b6-82f8-a613e690f0b6",
   "metadata": {},
   "outputs": [
    {
     "data": {
      "text/plain": [
       "'Raful'"
      ]
     },
     "execution_count": 368,
     "metadata": {},
     "output_type": "execute_result"
    }
   ],
   "source": [
    "(df1.loc[df1['cuisines'] == 'Arabian', ['restaurant_name', 'restaurant', 'aggregate_rating']]\n",
    "                                        .sort_values(['aggregate_rating', 'restaurant'], ascending=True)).iloc[0, 0]"
   ]
  },
  {
   "cell_type": "raw",
   "id": "816fa895-99c1-4597-a051-dd3c8b9aa021",
   "metadata": {},
   "source": [
    "7. Dos restaurantes que possuem o tipo de culinária japonesa, qual o nome do restaurante com a maior média de avaliação?"
   ]
  },
  {
   "cell_type": "code",
   "execution_count": 369,
   "id": "fc95b2f2-17a9-474d-b227-691318fac9e7",
   "metadata": {},
   "outputs": [
    {
     "data": {
      "text/plain": [
       "'Sushi Samba'"
      ]
     },
     "execution_count": 369,
     "metadata": {},
     "output_type": "execute_result"
    }
   ],
   "source": [
    "(df1.loc[df1['cuisines'] == 'Japanese', ['restaurant_name', 'restaurant', 'aggregate_rating']]\n",
    "                                        .sort_values(['aggregate_rating', 'restaurant'], ascending=[False, True])).iloc[0, 0]"
   ]
  },
  {
   "cell_type": "raw",
   "id": "4e0195ae-43ea-4ab7-acf8-e4e8f0d09ae6",
   "metadata": {},
   "source": [
    "8. Dos restaurantes que possuem o tipo de culinária japonesa, qual o nome do restaurante com a menor média de avaliação?"
   ]
  },
  {
   "cell_type": "code",
   "execution_count": 370,
   "id": "fea0e0f8-e573-4dbb-a9e1-4cd8d37130b5",
   "metadata": {},
   "outputs": [
    {
     "data": {
      "text/plain": [
       "'Banzai Sushi'"
      ]
     },
     "execution_count": 370,
     "metadata": {},
     "output_type": "execute_result"
    }
   ],
   "source": [
    "(df1.loc[df1['cuisines'] == 'Japanese', ['restaurant_name', 'restaurant', 'aggregate_rating']]\n",
    "                                        .sort_values(['aggregate_rating', 'restaurant'], ascending=[True, True])).iloc[0, 0]"
   ]
  },
  {
   "cell_type": "raw",
   "id": "1f551a9d-d9ce-488a-9dac-0a896489d3dd",
   "metadata": {},
   "source": [
    "9. Dos restaurantes que possuem o tipo de culinária caseira, qual o nome do restaurante com a maior média de avaliação?"
   ]
  },
  {
   "cell_type": "code",
   "execution_count": 371,
   "id": "55f6f5e7-b5fb-4869-9a88-c1ce1cf65129",
   "metadata": {},
   "outputs": [
    {
     "data": {
      "text/plain": [
       "'Kanaat Lokantası'"
      ]
     },
     "execution_count": 371,
     "metadata": {},
     "output_type": "execute_result"
    }
   ],
   "source": [
    "(df1.loc[df1['cuisines'] == 'Home-made', ['restaurant_name', 'restaurant', 'aggregate_rating']]\n",
    "                                        .sort_values(['aggregate_rating', 'restaurant'], ascending=[False, True])).iloc[0, 0]"
   ]
  },
  {
   "cell_type": "raw",
   "id": "58b13c2c-aef1-41ae-9a2b-1a492f15047c",
   "metadata": {},
   "source": [
    "10. Dos restaurantes que possuem o tipo de culinária caseira, qual o nome do restaurante com a menor média de avaliação?"
   ]
  },
  {
   "cell_type": "code",
   "execution_count": 372,
   "id": "24520f05-e60a-411d-b616-69b94760e4c4",
   "metadata": {},
   "outputs": [
    {
     "data": {
      "text/plain": [
       "'GurMekan Restaurant'"
      ]
     },
     "execution_count": 372,
     "metadata": {},
     "output_type": "execute_result"
    }
   ],
   "source": [
    "(df1.loc[df1['cuisines'] == 'Home-made', ['restaurant_name', 'restaurant', 'aggregate_rating']]\n",
    "                                        .sort_values(['aggregate_rating', 'restaurant'], ascending=[True, True])).iloc[0, 0]"
   ]
  },
  {
   "cell_type": "raw",
   "id": "b82bae77-4600-4422-86af-95d2ec28e2a3",
   "metadata": {},
   "source": [
    "11. Qual o tipo de culinária que possui o maior valor médio de um prato para duas pessoas?"
   ]
  },
  {
   "cell_type": "code",
   "execution_count": 374,
   "id": "bd616b1f-fe5d-4f07-a5dc-002d7064a04e",
   "metadata": {},
   "outputs": [
    {
     "data": {
      "text/plain": [
       "'Modern Australian'"
      ]
     },
     "execution_count": 374,
     "metadata": {},
     "output_type": "execute_result"
    }
   ],
   "source": [
    "(df1.loc[:, ['cuisines', 'average_cost_for_two']]\n",
    "            .sort_values('average_cost_for_two', ascending=False)\n",
    "            .iloc[0, 0])"
   ]
  },
  {
   "cell_type": "raw",
   "id": "58d2ce39-c273-4e7c-a221-7c46b6efc42f",
   "metadata": {},
   "source": [
    "12. Qual o tipo de culinária que possui a maior nota média?"
   ]
  },
  {
   "cell_type": "code",
   "execution_count": 377,
   "id": "f2b1de18-a065-4602-9f2d-afb66944b0c6",
   "metadata": {},
   "outputs": [
    {
     "data": {
      "text/plain": [
       "'Indian'"
      ]
     },
     "execution_count": 377,
     "metadata": {},
     "output_type": "execute_result"
    }
   ],
   "source": [
    "(df1.loc[:, ['cuisines', 'aggregate_rating']]\n",
    "            .groupby('cuisines')\n",
    "            .max()\n",
    "            .sort_values('aggregate_rating', ascending=False)\n",
    "            .reset_index()).iloc[0, 0]"
   ]
  },
  {
   "cell_type": "raw",
   "id": "700d473b-fb9b-462f-99d7-b63f85a2a62d",
   "metadata": {},
   "source": [
    "13. Qual o tipo de culinária que possui mais restaurantes que aceitam pedidos online e fazem entregas?"
   ]
  },
  {
   "cell_type": "code",
   "execution_count": 380,
   "id": "2f991bf7-4245-4194-84ac-dfa08f3cd740",
   "metadata": {},
   "outputs": [
    {
     "data": {
      "text/plain": [
       "'North Indian'"
      ]
     },
     "execution_count": 380,
     "metadata": {},
     "output_type": "execute_result"
    }
   ],
   "source": [
    "lines = (df1['has_online_delivery'] == 1) & (df1['is_delivering_now'] == 1)\n",
    "\n",
    "(df1.loc[lines, ['cuisines', 'restaurant']]\n",
    "            .groupby('cuisines')\n",
    "            .count()\n",
    "            .sort_values('restaurant', ascending=False)\n",
    "            .reset_index()).iloc[0, 0]"
   ]
  },
  {
   "cell_type": "code",
   "execution_count": null,
   "id": "09dc4bad-bd63-499a-86d3-39e1629c2d58",
   "metadata": {},
   "outputs": [],
   "source": []
  }
 ],
 "metadata": {
  "kernelspec": {
   "display_name": "Python 3 (ipykernel)",
   "language": "python",
   "name": "python3"
  },
  "language_info": {
   "codemirror_mode": {
    "name": "ipython",
    "version": 3
   },
   "file_extension": ".py",
   "mimetype": "text/x-python",
   "name": "python",
   "nbconvert_exporter": "python",
   "pygments_lexer": "ipython3",
   "version": "3.9.16"
  }
 },
 "nbformat": 4,
 "nbformat_minor": 5
}
